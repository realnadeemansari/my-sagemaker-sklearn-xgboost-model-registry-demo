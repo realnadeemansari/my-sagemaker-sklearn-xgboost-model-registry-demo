{
 "cells": [
  {
   "cell_type": "code",
   "execution_count": 3,
   "id": "722fa2af",
   "metadata": {},
   "outputs": [],
   "source": [
    "import os\n",
    "import boto3\n",
    "import sagemaker\n",
    "from sagemaker.sklearn.model import SKLearnModel\n",
    "from sagemaker.predictor import Predictor\n",
    "from sagemaker.serializers import CSVSerializer\n",
    "from sagemaker.deserializers import CSVDeserializer\n"
   ]
  },
  {
   "cell_type": "code",
   "execution_count": null,
   "id": "e9595a75",
   "metadata": {},
   "outputs": [],
   "source": [
    "os.environ[\"AWS_ACCESS_KEY_ID\"]=\"Your AWS_ACCESS_KEY_ID\"\n",
    "os.environ[\"AWS_SECRET_ACCESS_KEY\"]=\"Your AWS_SECRET_ACCESS_KEY\"\n",
    "os.environ[\"SAGEMAKER_ROLE\"]=\"your SAGEMAKER_ROLE\""
   ]
  },
  {
   "cell_type": "code",
   "execution_count": null,
   "id": "e89d513c",
   "metadata": {},
   "outputs": [],
   "source": [
    "AWS_ACCESS_KEY_ID = os.environ.get(\"AWS_ACCESS_KEY_ID\")\n",
    "AWS_SECRET_ACCESS_KEY = os.environ.get(\"AWS_SECRET_ACCESS_KEY\")\n",
    "region_name = \"us-east-1\"\n",
    "role = os.environ.get(\"SAGEMAKER_ROLE\")\n",
    "AWS_ACCESS_KEY_ID, AWS_SECRET_ACCESS_KEY, role"
   ]
  },
  {
   "cell_type": "code",
   "execution_count": null,
   "id": "816d8a46",
   "metadata": {},
   "outputs": [],
   "source": [
    "boto_session = boto3.Session(region_name=region_name,\n",
    "                             aws_access_key_id=AWS_ACCESS_KEY_ID,\n",
    "                             aws_secret_access_key=AWS_SECRET_ACCESS_KEY)\n",
    "sm_session = sagemaker.Session(boto_session=boto_session)\n",
    "sm_client = boto_session.client(\"sagemaker\")\n",
    "bucket_name = \"sagemaker07272025\"\n",
    "project_prefix = \"amzn\"\n",
    "bucket_prefix = f\"s3://{bucket_name}/{project_prefix}\"\n",
    "mlflow_artifact_path = f\"s3://{bucket_prefix}/mlflow\"\n"
   ]
  },
  {
   "cell_type": "code",
   "execution_count": null,
   "id": "8b0f0daa",
   "metadata": {},
   "outputs": [
    {
     "data": {
      "text/plain": [
       "{'ModelPackageGroupSummaryList': [{'ModelPackageGroupName': 'testing-model-package-group',\n",
       "   'ModelPackageGroupArn': 'arn:aws:sagemaker:us-east-1:395435558728:model-package-group/testing-model-package-group',\n",
       "   'ModelPackageGroupDescription': 'This is group stores versions of my ML models.',\n",
       "   'CreationTime': datetime.datetime(2025, 8, 10, 14, 41, 48, 955000, tzinfo=tzlocal()),\n",
       "   'ModelPackageGroupStatus': 'Completed'}],\n",
       " 'ResponseMetadata': {'RequestId': 'fa636ebf-b523-4cf6-b319-334627990f12',\n",
       "  'HTTPStatusCode': 200,\n",
       "  'HTTPHeaders': {'x-amzn-requestid': 'fa636ebf-b523-4cf6-b319-334627990f12',\n",
       "   'content-type': 'application/x-amz-json-1.1',\n",
       "   'content-length': '354',\n",
       "   'date': 'Sun, 10 Aug 2025 11:07:29 GMT'},\n",
       "  'RetryAttempts': 0}}"
      ]
     },
     "metadata": {},
     "output_type": "display_data"
    }
   ],
   "source": [
    "a = sm_client.list_model_package_groups()\n",
    "a"
   ]
  },
  {
   "cell_type": "markdown",
   "id": "630ef178",
   "metadata": {},
   "source": [
    "# Get model artifact from latest training"
   ]
  },
  {
   "cell_type": "code",
   "execution_count": null,
   "id": "1d8819a6",
   "metadata": {},
   "outputs": [],
   "source": [
    "job_name_prefix=f\"{project_prefix}-sm-btd-preprocess\"\n",
    "# job_name_prefix\n",
    "search_training = sm_client.search(\n",
    "    Resource=\"TrainingJob\",\n",
    "    SearchExpression={\n",
    "        \"Filters\": [\n",
    "            {\n",
    "                \"Name\": \"TrainingJobName\",\n",
    "                \"Operator\": \"Contains\",\n",
    "                'Value': job_name_prefix\n",
    "            }\n",
    "        ]\n",
    "    },\n",
    "    SortBy='CreationTime',\n",
    "    SortOrder='Descending',\n",
    "    MaxResults=1\n",
    ")\n",
    "sklearn_artifact_path = search_training[\"Results\"][0][\"TrainingJob\"][\"ModelArtifacts\"][\"S3ModelArtifacts\"]"
   ]
  },
  {
   "cell_type": "markdown",
   "id": "eb78732b",
   "metadata": {},
   "source": [
    "# Step 1 — Prepare Model Artifact for SageMaker\n",
    "\n",
    "We package our trained model (`model.joblib`) along with the inference code into a `.tar.gz` file.\n",
    "This archive will be uploaded to S3 and used by SageMaker for deployment.\n"
   ]
  },
  {
   "cell_type": "code",
   "execution_count": null,
   "id": "24eeb96e",
   "metadata": {},
   "outputs": [
    {
     "data": {
      "text/plain": [
       "'testing-model-package-group'"
      ]
     },
     "metadata": {},
     "output_type": "display_data"
    }
   ],
   "source": [
    "!tar -czvf model.tar.gz model.joblib code/\n",
    "!aws s3 cp model.tar.gz s3://sagemaker07272025/manual/"
   ]
  },
  {
   "cell_type": "markdown",
   "id": "81d3128d",
   "metadata": {},
   "source": [
    "# Step 2 — SageMaker Session Setup\n",
    "\n",
    "We set up AWS SDK (`boto3`) and SageMaker Python SDK sessions, along with our IAM execution role and model package group name.\n"
   ]
  },
  {
   "cell_type": "code",
   "execution_count": null,
   "id": "e5432bb6",
   "metadata": {},
   "outputs": [],
   "source": [
    "# Initialize SageMaker session and client\n",
    "boto_session = boto3.Session(region_name=region_name,\n",
    "                             aws_access_key_id=AWS_ACCESS_KEY_ID,\n",
    "                             aws_secret_access_key=AWS_SECRET_ACCESS_KEY)\n",
    "sm_session = sagemaker.Session(boto_session=boto_session)\n",
    "sm_client = boto3.client(\"sagemaker\")\n",
    "\n",
    "# Your IAM execution role\n",
    "role = \"YOUR EXECUTION ROLE ARN\"\n",
    "\n",
    "# Model package group name (create if not exists)\n",
    "model_package_group_name = \"testing-model-package-group\"\n",
    "try:\n",
    "    sm_client.create_model_package_group(\n",
    "        ModelPackageGroupName=model_package_group_name,\n",
    "        ModelPackageGroupDescription=\"Example group for local sklearn model\"\n",
    "    )\n",
    "except sm_client.exceptions.ResourceInUse:\n",
    "    print(\"Model package group already exists.\")\n"
   ]
  },
  {
   "cell_type": "markdown",
   "id": "9885d4d7",
   "metadata": {},
   "source": [
    "# Step 3 — Create and Register Model\n",
    "\n",
    "We create a `SKLearnModel` from our local artifact and register it in the SageMaker Model Registry.\n",
    "Initially, we set status to `PendingManualApproval`.\n"
   ]
  },
  {
   "cell_type": "code",
   "execution_count": null,
   "id": "e59fd7d4",
   "metadata": {},
   "outputs": [],
   "source": [
    "model_artifact = \"s3://<your-bucket>/path/to/model.tar.gz\"\n",
    "\n",
    "model = SKLearnModel(\n",
    "    model_data=model_artifact,\n",
    "    role=role,\n",
    "    entry_point=\"inference.py\",\n",
    "    source_dir=\"./sklearn_model/model/code\",\n",
    "    framework_version=\"1.2-1\"\n",
    ")\n",
    "\n",
    "model_package = model.register(\n",
    "    content_types=[\"text/csv\"],\n",
    "    response_types=[\"text/csv\"],\n",
    "    model_package_group_name=model_package_group_name,\n",
    "    approval_status=\"PendingManualApproval\",\n",
    "    description=\"First registered version from local training\"\n",
    ")\n",
    "\n",
    "print(\"Model package ARN:\", model_package.model_package_arn)\n"
   ]
  },
  {
   "cell_type": "code",
   "execution_count": null,
   "id": "fdf25ee1",
   "metadata": {},
   "outputs": [],
   "source": [
    "# We can also register the model with the model registry using below code as well\n",
    "# model_status = \"PendingManualApproval\"\n",
    "# response = sm_client.create_model_package(\n",
    "#     ModelPackageGroupName=model_package_group_name,\n",
    "#     ModelPackageDescription=\"First version of my model registered manually.\",\n",
    "#     InferenceSpecification={\n",
    "#         \"Containers\": [\n",
    "#             {\n",
    "#                 \"Image\": image_uri[0],\n",
    "#                 \"ModelDataUrl\": model_artifact\n",
    "#             }\n",
    "#         ],\n",
    "#         \"SupportedContentTypes\": [\"text/csv\"],\n",
    "#         \"SupportedResponseMIMETypes\": [\"text/csv\"],\n",
    "#     },\n",
    "#     ModelApprovalStatus=model_status\n",
    "# )"
   ]
  },
  {
   "cell_type": "markdown",
   "id": "9112d9fe",
   "metadata": {},
   "source": [
    "# List model from the package group or registry"
   ]
  },
  {
   "cell_type": "code",
   "execution_count": null,
   "id": "f7c84abc",
   "metadata": {},
   "outputs": [
    {
     "data": {
      "text/plain": [
       "{'ModelPackageSummaryList': [{'ModelPackageGroupName': 'testing-model-package-group',\n",
       "   'ModelPackageVersion': 8,\n",
       "   'ModelPackageArn': 'arn:aws:sagemaker:us-east-1:395435558728:model-package/testing-model-package-group/8',\n",
       "   'ModelPackageDescription': 'First version of my model registered manually.',\n",
       "   'CreationTime': datetime.datetime(2025, 8, 11, 18, 18, 46, 873000, tzinfo=tzlocal()),\n",
       "   'ModelPackageStatus': 'Completed',\n",
       "   'ModelApprovalStatus': 'PendingManualApproval'},\n",
       "  {'ModelPackageGroupName': 'testing-model-package-group',\n",
       "   'ModelPackageVersion': 7,\n",
       "   'ModelPackageArn': 'arn:aws:sagemaker:us-east-1:395435558728:model-package/testing-model-package-group/7',\n",
       "   'ModelPackageDescription': 'First registered version from local training',\n",
       "   'CreationTime': datetime.datetime(2025, 8, 11, 16, 38, 7, 247000, tzinfo=tzlocal()),\n",
       "   'ModelPackageStatus': 'Completed',\n",
       "   'ModelApprovalStatus': 'Approved'},\n",
       "  {'ModelPackageGroupName': 'testing-model-package-group',\n",
       "   'ModelPackageVersion': 6,\n",
       "   'ModelPackageArn': 'arn:aws:sagemaker:us-east-1:395435558728:model-package/testing-model-package-group/6',\n",
       "   'ModelPackageDescription': 'First registered version from local training',\n",
       "   'CreationTime': datetime.datetime(2025, 8, 11, 16, 21, 55, 994000, tzinfo=tzlocal()),\n",
       "   'ModelPackageStatus': 'Completed',\n",
       "   'ModelApprovalStatus': 'Approved'},\n",
       "  {'ModelPackageGroupName': 'testing-model-package-group',\n",
       "   'ModelPackageVersion': 5,\n",
       "   'ModelPackageArn': 'arn:aws:sagemaker:us-east-1:395435558728:model-package/testing-model-package-group/5',\n",
       "   'ModelPackageDescription': 'First registered version from local training',\n",
       "   'CreationTime': datetime.datetime(2025, 8, 11, 14, 47, 53, 951000, tzinfo=tzlocal()),\n",
       "   'ModelPackageStatus': 'Completed',\n",
       "   'ModelApprovalStatus': 'Approved'},\n",
       "  {'ModelPackageGroupName': 'testing-model-package-group',\n",
       "   'ModelPackageVersion': 4,\n",
       "   'ModelPackageArn': 'arn:aws:sagemaker:us-east-1:395435558728:model-package/testing-model-package-group/4',\n",
       "   'ModelPackageDescription': 'First registered version from local training',\n",
       "   'CreationTime': datetime.datetime(2025, 8, 11, 13, 4, 27, 262000, tzinfo=tzlocal()),\n",
       "   'ModelPackageStatus': 'Completed',\n",
       "   'ModelApprovalStatus': 'Approved'},\n",
       "  {'ModelPackageGroupName': 'testing-model-package-group',\n",
       "   'ModelPackageVersion': 3,\n",
       "   'ModelPackageArn': 'arn:aws:sagemaker:us-east-1:395435558728:model-package/testing-model-package-group/3',\n",
       "   'ModelPackageDescription': 'First registered version from local training',\n",
       "   'CreationTime': datetime.datetime(2025, 8, 10, 22, 18, 7, 466000, tzinfo=tzlocal()),\n",
       "   'ModelPackageStatus': 'Completed',\n",
       "   'ModelApprovalStatus': 'Approved'},\n",
       "  {'ModelPackageGroupName': 'testing-model-package-group',\n",
       "   'ModelPackageVersion': 2,\n",
       "   'ModelPackageArn': 'arn:aws:sagemaker:us-east-1:395435558728:model-package/testing-model-package-group/2',\n",
       "   'ModelPackageDescription': 'First version of my model registered manually.',\n",
       "   'CreationTime': datetime.datetime(2025, 8, 10, 20, 59, 5, 864000, tzinfo=tzlocal()),\n",
       "   'ModelPackageStatus': 'Completed',\n",
       "   'ModelApprovalStatus': 'Approved'},\n",
       "  {'ModelPackageGroupName': 'testing-model-package-group',\n",
       "   'ModelPackageVersion': 1,\n",
       "   'ModelPackageArn': 'arn:aws:sagemaker:us-east-1:395435558728:model-package/testing-model-package-group/1',\n",
       "   'ModelPackageDescription': 'First version of my model registered manually.',\n",
       "   'CreationTime': datetime.datetime(2025, 8, 10, 16, 36, 40, 278000, tzinfo=tzlocal()),\n",
       "   'ModelPackageStatus': 'Completed',\n",
       "   'ModelApprovalStatus': 'Approved'}],\n",
       " 'ResponseMetadata': {'RequestId': '82b75e3a-c3d6-4024-9583-d68bc91faa03',\n",
       "  'HTTPStatusCode': 200,\n",
       "  'HTTPHeaders': {'x-amzn-requestid': '82b75e3a-c3d6-4024-9583-d68bc91faa03',\n",
       "   'content-type': 'application/x-amz-json-1.1',\n",
       "   'content-length': '2896',\n",
       "   'date': 'Mon, 11 Aug 2025 13:00:55 GMT'},\n",
       "  'RetryAttempts': 0}}"
      ]
     },
     "metadata": {},
     "output_type": "display_data"
    }
   ],
   "source": [
    "mpg_res = sm_client.list_model_packages(\n",
    "    ModelPackageGroupName=model_package_group_name\n",
    ")"
   ]
  },
  {
   "cell_type": "markdown",
   "id": "e7225989",
   "metadata": {},
   "source": [
    "# Step 4 — Approve Model for Deployment\n",
    "\n",
    "SageMaker requires models from the registry to be `Approved` before deployment.\n",
    "We update the model package status here.\n"
   ]
  },
  {
   "cell_type": "code",
   "execution_count": null,
   "id": "6e0ae8e2",
   "metadata": {},
   "outputs": [],
   "source": [
    "model_package_arn = mpg_res[\"ModelPackageSummaryList\"][0][\"ModelPackageArn\"]\n",
    "\n",
    "sm_client.update_model_package(\n",
    "    ModelPackageArn=model_package_arn,\n",
    "    ModelApprovalStatus=\"Approved\",\n",
    "    ApprovalDescription=\"Model tested and approved for deployment.\"\n",
    ")\n"
   ]
  },
  {
   "cell_type": "markdown",
   "id": "d7a6c6b1",
   "metadata": {},
   "source": [
    "# Step 5 — Deploy the Approved Model\n",
    "\n",
    "We create a SageMaker Model, Endpoint Configuration, and Endpoint from the approved model package.\n"
   ]
  },
  {
   "cell_type": "code",
   "execution_count": null,
   "id": "c98228d8",
   "metadata": {},
   "outputs": [],
   "source": [
    "model_name = \"testing-model-from-registry\"\n",
    "endpoint_config_name = \"testing-model-endpoint-config\"\n",
    "endpoint_name = \"testing-model-endpoint\"\n",
    "\n",
    "# Create Model\n",
    "sm_client.create_model(\n",
    "    ModelName=model_name,\n",
    "    ExecutionRoleArn=role,\n",
    "    PrimaryContainer={\n",
    "        \"ModelPackageName\": model_package_arn\n",
    "    }\n",
    ")\n",
    "\n",
    "# Create Endpoint Config\n",
    "sm_client.create_endpoint_config(\n",
    "    EndpointConfigName=endpoint_config_name,\n",
    "    ProductionVariants=[\n",
    "        {\n",
    "            \"VariantName\": \"AllTraffic\",\n",
    "            \"ModelName\": model_name,\n",
    "            \"InstanceType\": \"ml.m5.2xlarge\",\n",
    "            \"InitialInstanceCount\": 1\n",
    "        }\n",
    "    ]\n",
    ")\n",
    "\n",
    "# Create Endpoint\n",
    "sm_client.create_endpoint(\n",
    "    EndpointName=endpoint_name,\n",
    "    EndpointConfigName=endpoint_config_name\n",
    ")\n"
   ]
  },
  {
   "cell_type": "markdown",
   "id": "0c53a80e",
   "metadata": {},
   "source": [
    "# Step 6 — Run Predictions\n",
    "\n",
    "We use `sagemaker.predictor.Predictor` with CSV serialization/deserialization to send requests to the deployed endpoint.\n"
   ]
  },
  {
   "cell_type": "code",
   "execution_count": null,
   "id": "2ff5587b",
   "metadata": {},
   "outputs": [],
   "source": [
    "predictor = Predictor(\n",
    "    endpoint_name=endpoint_name,\n",
    "    sagemaker_session=sm_session,\n",
    "    serializer=CSVSerializer(),\n",
    "    deserializer=CSVDeserializer()\n",
    ")\n",
    "\n",
    "payload = [\"L,298.4,308.2,1582,70.7,216\"]\n",
    "prediction = predictor.predict(payload)\n",
    "print(\"Prediction:\", prediction)\n"
   ]
  },
  {
   "cell_type": "markdown",
   "id": "3a3cc70c",
   "metadata": {},
   "source": [
    "# `inference.py` — Custom Inference Script\n",
    "\n",
    "This script defines:\n",
    "- `model_fn`: loads the model from disk\n",
    "- `input_fn`: converts CSV input into a Pandas DataFrame with correct column names\n",
    "- `predict_fn`: calls the model's `transform` method\n",
    "- `output_fn`: returns predictions as CSV\n"
   ]
  },
  {
   "cell_type": "code",
   "execution_count": null,
   "id": "5871716d",
   "metadata": {},
   "outputs": [],
   "source": [
    "%%writefile sklearn_model/model/code/inference.py\n",
    "import os\n",
    "import joblib\n",
    "import pandas as pd\n",
    "import io\n",
    "\n",
    "def model_fn(model_dir):\n",
    "    model_path = os.path.join(model_dir, \"model.joblib\")\n",
    "    print(f\"Loading model from: {model_path}\")\n",
    "    return joblib.load(model_path)\n",
    "\n",
    "def input_fn(input_data, content_type):\n",
    "    if content_type == \"text/csv\":\n",
    "        columns = ['Type', 'Air temperature [K]', 'Process temperature [K]',\n",
    "                   'Rotational speed [rpm]', 'Torque [Nm]', 'Tool wear [min]']\n",
    "        df = pd.read_csv(io.StringIO(input_data), header=None)\n",
    "        df.columns = columns\n",
    "        return df\n",
    "    else:\n",
    "        raise ValueError(f\"Unsupported content type: {content_type}\")\n",
    "\n",
    "def predict_fn(input_data, model):\n",
    "    return model.transform(input_data)\n",
    "\n",
    "def output_fn(prediction, accept):\n",
    "    if accept == \"text/csv\":\n",
    "        return \",\".join(str(x) for x in prediction), accept\n",
    "    else:\n",
    "        raise ValueError(f\"Unsupported accept type: {accept}\")\n"
   ]
  }
 ],
 "metadata": {
  "kernelspec": {
   "display_name": "Python 3",
   "language": "python",
   "name": "python3"
  },
  "language_info": {
   "codemirror_mode": {
    "name": "ipython",
    "version": 3
   },
   "file_extension": ".py",
   "mimetype": "text/x-python",
   "name": "python",
   "nbconvert_exporter": "python",
   "pygments_lexer": "ipython3",
   "version": "3.10.11"
  }
 },
 "nbformat": 4,
 "nbformat_minor": 5
}
