{
 "cells": [
  {
   "cell_type": "code",
   "execution_count": null,
   "id": "4ca61274",
   "metadata": {},
   "outputs": [],
   "source": [
    "import pandas as pd\n",
    "import xgboost as xgb\n",
    "import sklearn\n",
    "import time\n",
    "import os\n",
    "import boto3\n",
    "import sagemaker\n",
    "import json\n",
    "import os\n",
    "import xgboost\n",
    "import numpy as np\n",
    "import mlflow\n",
    "from sagemaker.remote_function import remote\n",
    "import time\n",
    "import functools\n",
    "import urllib\n",
    "import urllib.request\n",
    "import matplotlib.pyplot as plt\n",
    "import seaborn as sbn\n",
    "import matplotlib.pyplot as plt\n",
    "import os\n",
    "import joblib\n",
    "from sagemaker.workflow.execution_variables import ExecutionVariables\n",
    "from sklearn.model_selection import train_test_split\n",
    "from sklearn.preprocessing import StandardScaler, OneHotEncoder\n",
    "from sklearn.compose import ColumnTransformer\n",
    "from sklearn.metrics import roc_auc_score\n",
    "from sklearn.metrics import accuracy_score\n",
    "from sklearn.metrics import precision_score\n",
    "from sklearn.metrics import recall_score\n",
    "\n",
    "from sagemaker.remote_function import remote\n",
    "import mlflow\n",
    "import pandas as pd\n",
    "from time import gmtime, strftime\n",
    "from sagemaker.s3 import S3Downloader\n",
    "import subprocess\n",
    "from sagemaker.serve import CustomPayloadTranslator, ModelServer\n",
    "from sagemaker.serve.builder.model_builder import ModelBuilder\n",
    "from sagemaker.serve.builder.schema_builder import SchemaBuilder\n",
    "from sagemaker.serve import InferenceSpec\n",
    "from sagemaker.pipeline import PipelineModel\n",
    "from sagemaker.utils import unique_name_from_base\n",
    "from sagemaker import get_execution_role\n",
    "from sagemaker.image_uris import retrieve as get_image_uri\n",
    "import io\n",
    "import pandas as pd\n",
    "import numpy as np\n",
    "import os\n",
    "import joblib\n",
    "import xgboost\n"
   ]
  },
  {
   "cell_type": "code",
   "execution_count": null,
   "id": "bf970585",
   "metadata": {},
   "outputs": [],
   "source": [
    "os.environ[\"AWS_ACCESS_KEY_ID\"]=\"Your AWS_ACCESS_KEY_ID\"\n",
    "os.environ[\"AWS_SECRET_ACCESS_KEY\"]=\"Your AWS_SECRET_ACCESS_KEY\"\n",
    "os.environ[\"SAGEMAKER_ROLE\"]=\"your SAGEMAKER_ROLE\""
   ]
  },
  {
   "cell_type": "code",
   "execution_count": 1,
   "id": "df82e1cd",
   "metadata": {},
   "outputs": [],
   "source": [
    "# sagemaker.get_execution_role()"
   ]
  },
  {
   "cell_type": "code",
   "execution_count": null,
   "id": "ecec58bf",
   "metadata": {},
   "outputs": [],
   "source": [
    "AWS_ACCESS_KEY_ID = os.environ.get(\"AWS_ACCESS_KEY_ID\")\n",
    "AWS_SECRET_ACCESS_KEY = os.environ.get(\"AWS_SECRET_ACCESS_KEY\")\n",
    "region_name = \"us-east-1\"\n",
    "role = os.environ.get(\"SAGEMAKER_ROLE\")\n",
    "AWS_ACCESS_KEY_ID, AWS_SECRET_ACCESS_KEY, role"
   ]
  },
  {
   "cell_type": "code",
   "execution_count": null,
   "id": "184bcba4",
   "metadata": {},
   "outputs": [],
   "source": [
    "boto_session = boto3.Session(region_name=region_name,\n",
    "                             aws_access_key_id=AWS_ACCESS_KEY_ID,\n",
    "                             aws_secret_access_key=AWS_SECRET_ACCESS_KEY)\n",
    "sm_session = sagemaker.Session(boto_session=boto_session)\n",
    "sm_client = boto_session.client(\"sagemaker\")\n",
    "bucket_name = \"sagemaker07272025\"\n",
    "project_prefix = \"amzn\"\n",
    "bucket_prefix = f\"s3://{bucket_name}/{project_prefix}\"\n",
    "mlflow_artifact_path = f\"s3://{bucket_prefix}/mlflow\"\n"
   ]
  },
  {
   "cell_type": "code",
   "execution_count": 16,
   "id": "91688f22",
   "metadata": {},
   "outputs": [],
   "source": [
    "# def create_mlflow_tracking_server(server_name: str):\n",
    "#     response = sm_client.create_mlflow_tracking_server(\n",
    "#         TrackingServerName=server_name,\n",
    "#         ArtifactStoreUri=mlflow_artifact_path,\n",
    "#         RoleArn=role,\n",
    "#     )\n",
    "#     print(f\"Started creation of MLflow Tracking Server {server_name}\")\n",
    "#     print(f\"ARN: {response['TrackingServerArn']}\")\n",
    "#     return response"
   ]
  },
  {
   "cell_type": "code",
   "execution_count": 17,
   "id": "1a0b9050",
   "metadata": {},
   "outputs": [],
   "source": [
    "# def log_execution_time(func):\n",
    "#     @functools.wraps(func)\n",
    "#     def wrapper(*args, **kwargs):\n",
    "#         start = time.time()\n",
    "#         result = func(*args, **kwargs)\n",
    "#         end = time.time()\n",
    "#         duration = end - start\n",
    "#         print(f\"Function '{func.__name__}' executed in {duration:.4f} seconds\")\n",
    "#         return result\n",
    "#     return wrapper\n"
   ]
  },
  {
   "cell_type": "code",
   "execution_count": 18,
   "id": "47934b52",
   "metadata": {},
   "outputs": [],
   "source": [
    "# def wait_for_mlflow_server(server_name: str, timeout=1600):\n",
    "#     start = time.time()\n",
    "#     while True:\n",
    "#         response = sm_client.describe_mlflow_tracking_server(TrackingServerName=server_name)\n",
    "#         status = response[\"TrackingServerStatus\"]\n",
    "#         print(f\"[{int(time.time() - start)}s] Status: {status}\")\n",
    "#         if status == \"Created\":\n",
    "#             print(\"MLflow server is ready.\")\n",
    "#             return response\n",
    "#         elif status in [\"Failed\", \"Deleting\"]:\n",
    "#             raise Exception(f\"Server creation failed with status : {status}\")\n",
    "#         if time.time() - start > timeout:\n",
    "#             raise TimeoutError(\"Timeout while waiting for MLflow server creation.\")\n",
    "#         time.sleep(10)\n",
    "\n",
    "# mlflow_server_name = \"sagemaker-cicd-poc\"\n",
    "# # mlflow_arn = create_mlflow_tracking_server(mlflow_server_name)\n",
    "# mlflow_arn = \"arn:aws:sagemaker:us-east-1:395435558728:mlflow-tracking-server/sagemaker-cicd-poc\"\n",
    "# mlflow_info = wait_for_mlflow_server(mlflow_server_name)"
   ]
  },
  {
   "cell_type": "code",
   "execution_count": 19,
   "id": "46a477f3",
   "metadata": {},
   "outputs": [],
   "source": [
    "# sm_client.list_mlflow_tracking_servers()\n",
    "# [\"TrackingServerSummeries\"]"
   ]
  },
  {
   "cell_type": "code",
   "execution_count": 20,
   "id": "de29d86f",
   "metadata": {},
   "outputs": [],
   "source": [
    "# def get_mlflow_server_arn():\n",
    "#     list_servers = sm_client.list_mlflow_tracking_servers()[\"TrackingServerSummaries\"]\n",
    "#     assert len(list_servers) == 1\n",
    "#     mlflow_arn = list_servers[0][\"TrackingServerArn\"]\n",
    "#     mlflow_name = list_servers[0][\"TrackingServerName\"]\n",
    "#     print(f\"MLflow Server Name: {mlflow_name}\\nARN: {mlflow_arn}\")\n",
    "#     return mlflow_name, mlflow_arn\n",
    "\n",
    "# mlflow_name, mlflow_arn = get_mlflow_server_arn()\n"
   ]
  },
  {
   "cell_type": "markdown",
   "id": "74c1cf4e",
   "metadata": {},
   "source": [
    "# Mlfow docker build command\n",
    "mlflow models build-docker --model-uri \"models:/wine-quality/1\" --name \"qs_mlops\" --env-manager local\n"
   ]
  },
  {
   "cell_type": "code",
   "execution_count": 21,
   "id": "a744001b",
   "metadata": {},
   "outputs": [],
   "source": [
    "# res = sm_client.delete_mlflow_tracking_server(TrackingServerName=mlflow_name)"
   ]
  },
  {
   "cell_type": "code",
   "execution_count": 22,
   "id": "2331c178",
   "metadata": {},
   "outputs": [],
   "source": [
    "# res"
   ]
  },
  {
   "cell_type": "code",
   "execution_count": null,
   "id": "ff933f2b",
   "metadata": {},
   "outputs": [],
   "source": [
    "config_yaml = f\"\"\"\n",
    "SchemaVersion: '1.0'\n",
    "SageMaker:\n",
    "  PythonSDK:\n",
    "    Modules:\n",
    "      RemoteFunction:\n",
    "        # role arn is not required if in SageMaker Notebook instance or SageMaker Studio\n",
    "        # Uncomment the following line and replace with the right execution role if in a local IDE\n",
    "        RoleArn: {role}\n",
    "        S3RootUri: s3://{bucket_prefix}\n",
    "        InstanceType: ml.m5.xlarge\n",
    "        Dependencies: ./requirements.txt\n",
    "        IncludeLocalWorkDir: true\n",
    "        PreExecutionCommands:\n",
    "        - \"sudo chmod -R 777 /opt/ml/model\"\n",
    "        CustomFileFilter:\n",
    "          IgnoreNamePatterns:\n",
    "          - \"data/*\"\n",
    "          - \"models/*\"\n",
    "          - \"*.ipynb\"\n",
    "          - \"__pycache__\"\n",
    "\"\"\"\n",
    "print(config_yaml)\n",
    "# print(config_yaml, file=open('config.yaml', 'w'))\n",
    "os.environ[\"SAGEMAKER_USER_CONFIG_OVERRIDE\"] = os.getcwd()"
   ]
  },
  {
   "cell_type": "code",
   "execution_count": 27,
   "id": "7c81cb83",
   "metadata": {},
   "outputs": [
    {
     "data": {
      "text/plain": [
       "('./data/predictive_maintenance_raw_data_header.csv',\n",
       " <http.client.HTTPMessage at 0x154cb5a6b30>)"
      ]
     },
     "execution_count": 27,
     "metadata": {},
     "output_type": "execute_result"
    }
   ],
   "source": [
    "input_data_dir = \"./data/\"\n",
    "if not os.path.exists(input_data_dir):\n",
    "    os.makedirs(input_data_dir)\n",
    "input_data_path = os.path.join(input_data_dir, \"predictive_maintenance_raw_data_header.csv\")\n",
    "dataset_url = \"https://archive.ics.uci.edu/ml/machine-learning-databases/00601/ai4i2020.csv\"\n",
    "urllib.request.urlretrieve(dataset_url, input_data_path)"
   ]
  },
  {
   "cell_type": "code",
   "execution_count": 28,
   "id": "b53ef440",
   "metadata": {},
   "outputs": [
    {
     "data": {
      "application/vnd.microsoft.datawrangler.viewer.v0+json": {
       "columns": [
        {
         "name": "index",
         "rawType": "int64",
         "type": "integer"
        },
        {
         "name": "UDI",
         "rawType": "int64",
         "type": "integer"
        },
        {
         "name": "Product ID",
         "rawType": "object",
         "type": "string"
        },
        {
         "name": "Type",
         "rawType": "object",
         "type": "string"
        },
        {
         "name": "Air temperature [K]",
         "rawType": "float64",
         "type": "float"
        },
        {
         "name": "Process temperature [K]",
         "rawType": "float64",
         "type": "float"
        },
        {
         "name": "Rotational speed [rpm]",
         "rawType": "int64",
         "type": "integer"
        },
        {
         "name": "Torque [Nm]",
         "rawType": "float64",
         "type": "float"
        },
        {
         "name": "Tool wear [min]",
         "rawType": "int64",
         "type": "integer"
        },
        {
         "name": "Machine failure",
         "rawType": "int64",
         "type": "integer"
        },
        {
         "name": "TWF",
         "rawType": "int64",
         "type": "integer"
        },
        {
         "name": "HDF",
         "rawType": "int64",
         "type": "integer"
        },
        {
         "name": "PWF",
         "rawType": "int64",
         "type": "integer"
        },
        {
         "name": "OSF",
         "rawType": "int64",
         "type": "integer"
        },
        {
         "name": "RNF",
         "rawType": "int64",
         "type": "integer"
        }
       ],
       "ref": "4f32c25c-7335-4e07-ab0a-0f825cf24961",
       "rows": [
        [
         "0",
         "1",
         "M14860",
         "M",
         "298.1",
         "308.6",
         "1551",
         "42.8",
         "0",
         "0",
         "0",
         "0",
         "0",
         "0",
         "0"
        ],
        [
         "1",
         "2",
         "L47181",
         "L",
         "298.2",
         "308.7",
         "1408",
         "46.3",
         "3",
         "0",
         "0",
         "0",
         "0",
         "0",
         "0"
        ],
        [
         "2",
         "3",
         "L47182",
         "L",
         "298.1",
         "308.5",
         "1498",
         "49.4",
         "5",
         "0",
         "0",
         "0",
         "0",
         "0",
         "0"
        ],
        [
         "3",
         "4",
         "L47183",
         "L",
         "298.2",
         "308.6",
         "1433",
         "39.5",
         "7",
         "0",
         "0",
         "0",
         "0",
         "0",
         "0"
        ],
        [
         "4",
         "5",
         "L47184",
         "L",
         "298.2",
         "308.7",
         "1408",
         "40.0",
         "9",
         "0",
         "0",
         "0",
         "0",
         "0",
         "0"
        ]
       ],
       "shape": {
        "columns": 14,
        "rows": 5
       }
      },
      "text/html": [
       "<div>\n",
       "<style scoped>\n",
       "    .dataframe tbody tr th:only-of-type {\n",
       "        vertical-align: middle;\n",
       "    }\n",
       "\n",
       "    .dataframe tbody tr th {\n",
       "        vertical-align: top;\n",
       "    }\n",
       "\n",
       "    .dataframe thead th {\n",
       "        text-align: right;\n",
       "    }\n",
       "</style>\n",
       "<table border=\"1\" class=\"dataframe\">\n",
       "  <thead>\n",
       "    <tr style=\"text-align: right;\">\n",
       "      <th></th>\n",
       "      <th>UDI</th>\n",
       "      <th>Product ID</th>\n",
       "      <th>Type</th>\n",
       "      <th>Air temperature [K]</th>\n",
       "      <th>Process temperature [K]</th>\n",
       "      <th>Rotational speed [rpm]</th>\n",
       "      <th>Torque [Nm]</th>\n",
       "      <th>Tool wear [min]</th>\n",
       "      <th>Machine failure</th>\n",
       "      <th>TWF</th>\n",
       "      <th>HDF</th>\n",
       "      <th>PWF</th>\n",
       "      <th>OSF</th>\n",
       "      <th>RNF</th>\n",
       "    </tr>\n",
       "  </thead>\n",
       "  <tbody>\n",
       "    <tr>\n",
       "      <th>0</th>\n",
       "      <td>1</td>\n",
       "      <td>M14860</td>\n",
       "      <td>M</td>\n",
       "      <td>298.1</td>\n",
       "      <td>308.6</td>\n",
       "      <td>1551</td>\n",
       "      <td>42.8</td>\n",
       "      <td>0</td>\n",
       "      <td>0</td>\n",
       "      <td>0</td>\n",
       "      <td>0</td>\n",
       "      <td>0</td>\n",
       "      <td>0</td>\n",
       "      <td>0</td>\n",
       "    </tr>\n",
       "    <tr>\n",
       "      <th>1</th>\n",
       "      <td>2</td>\n",
       "      <td>L47181</td>\n",
       "      <td>L</td>\n",
       "      <td>298.2</td>\n",
       "      <td>308.7</td>\n",
       "      <td>1408</td>\n",
       "      <td>46.3</td>\n",
       "      <td>3</td>\n",
       "      <td>0</td>\n",
       "      <td>0</td>\n",
       "      <td>0</td>\n",
       "      <td>0</td>\n",
       "      <td>0</td>\n",
       "      <td>0</td>\n",
       "    </tr>\n",
       "    <tr>\n",
       "      <th>2</th>\n",
       "      <td>3</td>\n",
       "      <td>L47182</td>\n",
       "      <td>L</td>\n",
       "      <td>298.1</td>\n",
       "      <td>308.5</td>\n",
       "      <td>1498</td>\n",
       "      <td>49.4</td>\n",
       "      <td>5</td>\n",
       "      <td>0</td>\n",
       "      <td>0</td>\n",
       "      <td>0</td>\n",
       "      <td>0</td>\n",
       "      <td>0</td>\n",
       "      <td>0</td>\n",
       "    </tr>\n",
       "    <tr>\n",
       "      <th>3</th>\n",
       "      <td>4</td>\n",
       "      <td>L47183</td>\n",
       "      <td>L</td>\n",
       "      <td>298.2</td>\n",
       "      <td>308.6</td>\n",
       "      <td>1433</td>\n",
       "      <td>39.5</td>\n",
       "      <td>7</td>\n",
       "      <td>0</td>\n",
       "      <td>0</td>\n",
       "      <td>0</td>\n",
       "      <td>0</td>\n",
       "      <td>0</td>\n",
       "      <td>0</td>\n",
       "    </tr>\n",
       "    <tr>\n",
       "      <th>4</th>\n",
       "      <td>5</td>\n",
       "      <td>L47184</td>\n",
       "      <td>L</td>\n",
       "      <td>298.2</td>\n",
       "      <td>308.7</td>\n",
       "      <td>1408</td>\n",
       "      <td>40.0</td>\n",
       "      <td>9</td>\n",
       "      <td>0</td>\n",
       "      <td>0</td>\n",
       "      <td>0</td>\n",
       "      <td>0</td>\n",
       "      <td>0</td>\n",
       "      <td>0</td>\n",
       "    </tr>\n",
       "  </tbody>\n",
       "</table>\n",
       "</div>"
      ],
      "text/plain": [
       "   UDI Product ID Type  Air temperature [K]  Process temperature [K]  \\\n",
       "0    1     M14860    M                298.1                    308.6   \n",
       "1    2     L47181    L                298.2                    308.7   \n",
       "2    3     L47182    L                298.1                    308.5   \n",
       "3    4     L47183    L                298.2                    308.6   \n",
       "4    5     L47184    L                298.2                    308.7   \n",
       "\n",
       "   Rotational speed [rpm]  Torque [Nm]  Tool wear [min]  Machine failure  TWF  \\\n",
       "0                    1551         42.8                0                0    0   \n",
       "1                    1408         46.3                3                0    0   \n",
       "2                    1498         49.4                5                0    0   \n",
       "3                    1433         39.5                7                0    0   \n",
       "4                    1408         40.0                9                0    0   \n",
       "\n",
       "   HDF  PWF  OSF  RNF  \n",
       "0    0    0    0    0  \n",
       "1    0    0    0    0  \n",
       "2    0    0    0    0  \n",
       "3    0    0    0    0  \n",
       "4    0    0    0    0  "
      ]
     },
     "execution_count": 28,
     "metadata": {},
     "output_type": "execute_result"
    }
   ],
   "source": [
    "df = pd.read_csv(input_data_path)\n",
    "df.head()"
   ]
  },
  {
   "cell_type": "code",
   "execution_count": 29,
   "id": "fb0da8da",
   "metadata": {},
   "outputs": [
    {
     "data": {
      "text/plain": [
       "(10000, 14)"
      ]
     },
     "execution_count": 29,
     "metadata": {},
     "output_type": "execute_result"
    }
   ],
   "source": [
    "df.shape"
   ]
  },
  {
   "cell_type": "code",
   "execution_count": 30,
   "id": "07085e6a",
   "metadata": {},
   "outputs": [
    {
     "data": {
      "application/vnd.microsoft.datawrangler.viewer.v0+json": {
       "columns": [
        {
         "name": "index",
         "rawType": "object",
         "type": "string"
        },
        {
         "name": "UDI",
         "rawType": "float64",
         "type": "float"
        },
        {
         "name": "Air temperature [K]",
         "rawType": "float64",
         "type": "float"
        },
        {
         "name": "Process temperature [K]",
         "rawType": "float64",
         "type": "float"
        },
        {
         "name": "Rotational speed [rpm]",
         "rawType": "float64",
         "type": "float"
        },
        {
         "name": "Torque [Nm]",
         "rawType": "float64",
         "type": "float"
        },
        {
         "name": "Tool wear [min]",
         "rawType": "float64",
         "type": "float"
        },
        {
         "name": "Machine failure",
         "rawType": "float64",
         "type": "float"
        },
        {
         "name": "TWF",
         "rawType": "float64",
         "type": "float"
        },
        {
         "name": "HDF",
         "rawType": "float64",
         "type": "float"
        },
        {
         "name": "PWF",
         "rawType": "float64",
         "type": "float"
        },
        {
         "name": "OSF",
         "rawType": "float64",
         "type": "float"
        },
        {
         "name": "RNF",
         "rawType": "float64",
         "type": "float"
        }
       ],
       "ref": "43fcdecf-6d6c-46f2-a567-e25d283816e3",
       "rows": [
        [
         "count",
         "10000.0",
         "10000.0",
         "10000.0",
         "10000.0",
         "10000.0",
         "10000.0",
         "10000.0",
         "10000.0",
         "10000.0",
         "10000.0",
         "10000.0",
         "10000.0"
        ],
        [
         "mean",
         "5000.5",
         "300.00493",
         "310.00556",
         "1538.7761",
         "39.986909999999995",
         "107.951",
         "0.0339",
         "0.0046",
         "0.0115",
         "0.0095",
         "0.0098",
         "0.0019"
        ],
        [
         "std",
         "2886.8956799071675",
         "2.000258682915751",
         "1.4837342191657208",
         "179.2840959134266",
         "9.968933725121337",
         "63.654146636636355",
         "0.18098084265065364",
         "0.06767051004531426",
         "0.10662498247919606",
         "0.09700871645943425",
         "0.09851360562404211",
         "0.043549737748530666"
        ],
        [
         "min",
         "1.0",
         "295.3",
         "305.7",
         "1168.0",
         "3.8",
         "0.0",
         "0.0",
         "0.0",
         "0.0",
         "0.0",
         "0.0",
         "0.0"
        ],
        [
         "25%",
         "2500.75",
         "298.3",
         "308.8",
         "1423.0",
         "33.2",
         "53.0",
         "0.0",
         "0.0",
         "0.0",
         "0.0",
         "0.0",
         "0.0"
        ],
        [
         "50%",
         "5000.5",
         "300.1",
         "310.1",
         "1503.0",
         "40.1",
         "108.0",
         "0.0",
         "0.0",
         "0.0",
         "0.0",
         "0.0",
         "0.0"
        ],
        [
         "75%",
         "7500.25",
         "301.5",
         "311.1",
         "1612.0",
         "46.8",
         "162.0",
         "0.0",
         "0.0",
         "0.0",
         "0.0",
         "0.0",
         "0.0"
        ],
        [
         "max",
         "10000.0",
         "304.5",
         "313.8",
         "2886.0",
         "76.6",
         "253.0",
         "1.0",
         "1.0",
         "1.0",
         "1.0",
         "1.0",
         "1.0"
        ]
       ],
       "shape": {
        "columns": 12,
        "rows": 8
       }
      },
      "text/html": [
       "<div>\n",
       "<style scoped>\n",
       "    .dataframe tbody tr th:only-of-type {\n",
       "        vertical-align: middle;\n",
       "    }\n",
       "\n",
       "    .dataframe tbody tr th {\n",
       "        vertical-align: top;\n",
       "    }\n",
       "\n",
       "    .dataframe thead th {\n",
       "        text-align: right;\n",
       "    }\n",
       "</style>\n",
       "<table border=\"1\" class=\"dataframe\">\n",
       "  <thead>\n",
       "    <tr style=\"text-align: right;\">\n",
       "      <th></th>\n",
       "      <th>UDI</th>\n",
       "      <th>Air temperature [K]</th>\n",
       "      <th>Process temperature [K]</th>\n",
       "      <th>Rotational speed [rpm]</th>\n",
       "      <th>Torque [Nm]</th>\n",
       "      <th>Tool wear [min]</th>\n",
       "      <th>Machine failure</th>\n",
       "      <th>TWF</th>\n",
       "      <th>HDF</th>\n",
       "      <th>PWF</th>\n",
       "      <th>OSF</th>\n",
       "      <th>RNF</th>\n",
       "    </tr>\n",
       "  </thead>\n",
       "  <tbody>\n",
       "    <tr>\n",
       "      <th>count</th>\n",
       "      <td>10000.00000</td>\n",
       "      <td>10000.000000</td>\n",
       "      <td>10000.000000</td>\n",
       "      <td>10000.000000</td>\n",
       "      <td>10000.000000</td>\n",
       "      <td>10000.000000</td>\n",
       "      <td>10000.000000</td>\n",
       "      <td>10000.000000</td>\n",
       "      <td>10000.000000</td>\n",
       "      <td>10000.000000</td>\n",
       "      <td>10000.000000</td>\n",
       "      <td>10000.00000</td>\n",
       "    </tr>\n",
       "    <tr>\n",
       "      <th>mean</th>\n",
       "      <td>5000.50000</td>\n",
       "      <td>300.004930</td>\n",
       "      <td>310.005560</td>\n",
       "      <td>1538.776100</td>\n",
       "      <td>39.986910</td>\n",
       "      <td>107.951000</td>\n",
       "      <td>0.033900</td>\n",
       "      <td>0.004600</td>\n",
       "      <td>0.011500</td>\n",
       "      <td>0.009500</td>\n",
       "      <td>0.009800</td>\n",
       "      <td>0.00190</td>\n",
       "    </tr>\n",
       "    <tr>\n",
       "      <th>std</th>\n",
       "      <td>2886.89568</td>\n",
       "      <td>2.000259</td>\n",
       "      <td>1.483734</td>\n",
       "      <td>179.284096</td>\n",
       "      <td>9.968934</td>\n",
       "      <td>63.654147</td>\n",
       "      <td>0.180981</td>\n",
       "      <td>0.067671</td>\n",
       "      <td>0.106625</td>\n",
       "      <td>0.097009</td>\n",
       "      <td>0.098514</td>\n",
       "      <td>0.04355</td>\n",
       "    </tr>\n",
       "    <tr>\n",
       "      <th>min</th>\n",
       "      <td>1.00000</td>\n",
       "      <td>295.300000</td>\n",
       "      <td>305.700000</td>\n",
       "      <td>1168.000000</td>\n",
       "      <td>3.800000</td>\n",
       "      <td>0.000000</td>\n",
       "      <td>0.000000</td>\n",
       "      <td>0.000000</td>\n",
       "      <td>0.000000</td>\n",
       "      <td>0.000000</td>\n",
       "      <td>0.000000</td>\n",
       "      <td>0.00000</td>\n",
       "    </tr>\n",
       "    <tr>\n",
       "      <th>25%</th>\n",
       "      <td>2500.75000</td>\n",
       "      <td>298.300000</td>\n",
       "      <td>308.800000</td>\n",
       "      <td>1423.000000</td>\n",
       "      <td>33.200000</td>\n",
       "      <td>53.000000</td>\n",
       "      <td>0.000000</td>\n",
       "      <td>0.000000</td>\n",
       "      <td>0.000000</td>\n",
       "      <td>0.000000</td>\n",
       "      <td>0.000000</td>\n",
       "      <td>0.00000</td>\n",
       "    </tr>\n",
       "    <tr>\n",
       "      <th>50%</th>\n",
       "      <td>5000.50000</td>\n",
       "      <td>300.100000</td>\n",
       "      <td>310.100000</td>\n",
       "      <td>1503.000000</td>\n",
       "      <td>40.100000</td>\n",
       "      <td>108.000000</td>\n",
       "      <td>0.000000</td>\n",
       "      <td>0.000000</td>\n",
       "      <td>0.000000</td>\n",
       "      <td>0.000000</td>\n",
       "      <td>0.000000</td>\n",
       "      <td>0.00000</td>\n",
       "    </tr>\n",
       "    <tr>\n",
       "      <th>75%</th>\n",
       "      <td>7500.25000</td>\n",
       "      <td>301.500000</td>\n",
       "      <td>311.100000</td>\n",
       "      <td>1612.000000</td>\n",
       "      <td>46.800000</td>\n",
       "      <td>162.000000</td>\n",
       "      <td>0.000000</td>\n",
       "      <td>0.000000</td>\n",
       "      <td>0.000000</td>\n",
       "      <td>0.000000</td>\n",
       "      <td>0.000000</td>\n",
       "      <td>0.00000</td>\n",
       "    </tr>\n",
       "    <tr>\n",
       "      <th>max</th>\n",
       "      <td>10000.00000</td>\n",
       "      <td>304.500000</td>\n",
       "      <td>313.800000</td>\n",
       "      <td>2886.000000</td>\n",
       "      <td>76.600000</td>\n",
       "      <td>253.000000</td>\n",
       "      <td>1.000000</td>\n",
       "      <td>1.000000</td>\n",
       "      <td>1.000000</td>\n",
       "      <td>1.000000</td>\n",
       "      <td>1.000000</td>\n",
       "      <td>1.00000</td>\n",
       "    </tr>\n",
       "  </tbody>\n",
       "</table>\n",
       "</div>"
      ],
      "text/plain": [
       "               UDI  Air temperature [K]  Process temperature [K]  \\\n",
       "count  10000.00000         10000.000000             10000.000000   \n",
       "mean    5000.50000           300.004930               310.005560   \n",
       "std     2886.89568             2.000259                 1.483734   \n",
       "min        1.00000           295.300000               305.700000   \n",
       "25%     2500.75000           298.300000               308.800000   \n",
       "50%     5000.50000           300.100000               310.100000   \n",
       "75%     7500.25000           301.500000               311.100000   \n",
       "max    10000.00000           304.500000               313.800000   \n",
       "\n",
       "       Rotational speed [rpm]   Torque [Nm]  Tool wear [min]  Machine failure  \\\n",
       "count            10000.000000  10000.000000     10000.000000     10000.000000   \n",
       "mean              1538.776100     39.986910       107.951000         0.033900   \n",
       "std                179.284096      9.968934        63.654147         0.180981   \n",
       "min               1168.000000      3.800000         0.000000         0.000000   \n",
       "25%               1423.000000     33.200000        53.000000         0.000000   \n",
       "50%               1503.000000     40.100000       108.000000         0.000000   \n",
       "75%               1612.000000     46.800000       162.000000         0.000000   \n",
       "max               2886.000000     76.600000       253.000000         1.000000   \n",
       "\n",
       "                TWF           HDF           PWF           OSF          RNF  \n",
       "count  10000.000000  10000.000000  10000.000000  10000.000000  10000.00000  \n",
       "mean       0.004600      0.011500      0.009500      0.009800      0.00190  \n",
       "std        0.067671      0.106625      0.097009      0.098514      0.04355  \n",
       "min        0.000000      0.000000      0.000000      0.000000      0.00000  \n",
       "25%        0.000000      0.000000      0.000000      0.000000      0.00000  \n",
       "50%        0.000000      0.000000      0.000000      0.000000      0.00000  \n",
       "75%        0.000000      0.000000      0.000000      0.000000      0.00000  \n",
       "max        1.000000      1.000000      1.000000      1.000000      1.00000  "
      ]
     },
     "execution_count": 30,
     "metadata": {},
     "output_type": "execute_result"
    }
   ],
   "source": [
    "df.describe()"
   ]
  },
  {
   "cell_type": "code",
   "execution_count": 31,
   "id": "63ee3a0a",
   "metadata": {},
   "outputs": [
    {
     "data": {
      "application/vnd.microsoft.datawrangler.viewer.v0+json": {
       "columns": [
        {
         "name": "Machine failure",
         "rawType": "int64",
         "type": "integer"
        },
        {
         "name": "count",
         "rawType": "int64",
         "type": "integer"
        }
       ],
       "ref": "04688876-119e-44d1-a4d8-6050d48f9a8b",
       "rows": [
        [
         "0",
         "9661"
        ],
        [
         "1",
         "339"
        ]
       ],
       "shape": {
        "columns": 1,
        "rows": 2
       }
      },
      "text/plain": [
       "Machine failure\n",
       "0    9661\n",
       "1     339\n",
       "Name: count, dtype: int64"
      ]
     },
     "execution_count": 31,
     "metadata": {},
     "output_type": "execute_result"
    }
   ],
   "source": [
    "df[\"Machine failure\"].value_counts()"
   ]
  },
  {
   "cell_type": "code",
   "execution_count": 32,
   "id": "494b75be",
   "metadata": {},
   "outputs": [
    {
     "data": {
      "image/png": "[encoded data removed]",
      "text/plain": [
       "<Figure size 640x480 with 1 Axes>"
      ]
     },
     "metadata": {},
     "output_type": "display_data"
    }
   ],
   "source": [
    "\n",
    "\n",
    "df[\"Machine failure\"].value_counts().plot.bar()\n",
    "plt.show()"
   ]
  },
  {
   "cell_type": "code",
   "execution_count": 33,
   "id": "a4c00347",
   "metadata": {},
   "outputs": [
    {
     "data": {
      "application/vnd.microsoft.datawrangler.viewer.v0+json": {
       "columns": [
        {
         "name": "index",
         "rawType": "object",
         "type": "string"
        },
        {
         "name": "0",
         "rawType": "int64",
         "type": "integer"
        }
       ],
       "ref": "079554f9-0d95-4807-a980-5a65074aeabc",
       "rows": [
        [
         "UDI",
         "10000"
        ],
        [
         "Product ID",
         "10000"
        ],
        [
         "Type",
         "3"
        ],
        [
         "Air temperature [K]",
         "93"
        ],
        [
         "Process temperature [K]",
         "82"
        ],
        [
         "Rotational speed [rpm]",
         "941"
        ],
        [
         "Torque [Nm]",
         "577"
        ],
        [
         "Tool wear [min]",
         "246"
        ],
        [
         "Machine failure",
         "2"
        ],
        [
         "TWF",
         "2"
        ],
        [
         "HDF",
         "2"
        ],
        [
         "PWF",
         "2"
        ],
        [
         "OSF",
         "2"
        ],
        [
         "RNF",
         "2"
        ]
       ],
       "shape": {
        "columns": 1,
        "rows": 14
       }
      },
      "text/plain": [
       "UDI                        10000\n",
       "Product ID                 10000\n",
       "Type                           3\n",
       "Air temperature [K]           93\n",
       "Process temperature [K]       82\n",
       "Rotational speed [rpm]       941\n",
       "Torque [Nm]                  577\n",
       "Tool wear [min]              246\n",
       "Machine failure                2\n",
       "TWF                            2\n",
       "HDF                            2\n",
       "PWF                            2\n",
       "OSF                            2\n",
       "RNF                            2\n",
       "dtype: int64"
      ]
     },
     "execution_count": 33,
     "metadata": {},
     "output_type": "execute_result"
    }
   ],
   "source": [
    "df.nunique()"
   ]
  },
  {
   "cell_type": "code",
   "execution_count": 34,
   "id": "4b7d5b8c",
   "metadata": {},
   "outputs": [],
   "source": [
    "df1 = df.sample(frac=.1)"
   ]
  },
  {
   "cell_type": "code",
   "execution_count": 35,
   "id": "c97bbfaa",
   "metadata": {},
   "outputs": [
    {
     "data": {
      "application/vnd.microsoft.datawrangler.viewer.v0+json": {
       "columns": [
        {
         "name": "index",
         "rawType": "int64",
         "type": "integer"
        },
        {
         "name": "UDI",
         "rawType": "int64",
         "type": "integer"
        },
        {
         "name": "Product ID",
         "rawType": "object",
         "type": "string"
        },
        {
         "name": "Type",
         "rawType": "object",
         "type": "string"
        },
        {
         "name": "Air temperature [K]",
         "rawType": "float64",
         "type": "float"
        },
        {
         "name": "Process temperature [K]",
         "rawType": "float64",
         "type": "float"
        },
        {
         "name": "Rotational speed [rpm]",
         "rawType": "int64",
         "type": "integer"
        },
        {
         "name": "Torque [Nm]",
         "rawType": "float64",
         "type": "float"
        },
        {
         "name": "Tool wear [min]",
         "rawType": "int64",
         "type": "integer"
        },
        {
         "name": "Machine failure",
         "rawType": "int64",
         "type": "integer"
        },
        {
         "name": "TWF",
         "rawType": "int64",
         "type": "integer"
        },
        {
         "name": "HDF",
         "rawType": "int64",
         "type": "integer"
        },
        {
         "name": "PWF",
         "rawType": "int64",
         "type": "integer"
        },
        {
         "name": "OSF",
         "rawType": "int64",
         "type": "integer"
        },
        {
         "name": "RNF",
         "rawType": "int64",
         "type": "integer"
        }
       ],
       "ref": "ff588c1c-4662-4e23-a694-d510e2f0820e",
       "rows": [
        [
         "9290",
         "9291",
         "L56470",
         "L",
         "298.2",
         "309.0",
         "1418",
         "44.2",
         "87",
         "0",
         "0",
         "0",
         "0",
         "0",
         "0"
        ],
        [
         "1801",
         "1802",
         "M16661",
         "M",
         "298.0",
         "307.5",
         "1427",
         "43.6",
         "101",
         "0",
         "0",
         "0",
         "0",
         "0",
         "0"
        ],
        [
         "5977",
         "5978",
         "L53157",
         "L",
         "300.6",
         "310.7",
         "1750",
         "30.6",
         "171",
         "0",
         "0",
         "0",
         "0",
         "0",
         "0"
        ],
        [
         "6900",
         "6901",
         "L54080",
         "L",
         "301.0",
         "311.7",
         "1670",
         "31.3",
         "150",
         "0",
         "0",
         "0",
         "0",
         "0",
         "0"
        ],
        [
         "5898",
         "5899",
         "L53078",
         "L",
         "301.0",
         "310.7",
         "1300",
         "57.2",
         "174",
         "0",
         "0",
         "0",
         "0",
         "0",
         "0"
        ],
        [
         "9728",
         "9729",
         "L56908",
         "L",
         "298.8",
         "309.8",
         "1563",
         "33.7",
         "143",
         "0",
         "0",
         "0",
         "0",
         "0",
         "0"
        ],
        [
         "2712",
         "2713",
         "H32126",
         "H",
         "299.7",
         "309.2",
         "1302",
         "55.5",
         "87",
         "0",
         "0",
         "0",
         "0",
         "0",
         "0"
        ],
        [
         "7496",
         "7497",
         "L54676",
         "L",
         "300.2",
         "311.8",
         "1464",
         "44.5",
         "179",
         "0",
         "0",
         "0",
         "0",
         "0",
         "0"
        ],
        [
         "1611",
         "1612",
         "M16471",
         "M",
         "297.8",
         "307.9",
         "1726",
         "27.3",
         "35",
         "0",
         "0",
         "0",
         "0",
         "0",
         "0"
        ],
        [
         "2338",
         "2339",
         "L49518",
         "L",
         "299.3",
         "308.3",
         "1651",
         "28.0",
         "6",
         "0",
         "0",
         "0",
         "0",
         "0",
         "0"
        ],
        [
         "1915",
         "1916",
         "L49095",
         "L",
         "298.0",
         "307.7",
         "1492",
         "38.7",
         "202",
         "0",
         "0",
         "0",
         "0",
         "0",
         "0"
        ],
        [
         "46",
         "47",
         "M14906",
         "M",
         "298.7",
         "309.0",
         "1843",
         "25.8",
         "130",
         "0",
         "0",
         "0",
         "0",
         "0",
         "0"
        ],
        [
         "3988",
         "3989",
         "L51168",
         "L",
         "302.2",
         "311.3",
         "1554",
         "40.2",
         "118",
         "0",
         "0",
         "0",
         "0",
         "0",
         "0"
        ],
        [
         "3740",
         "3741",
         "L50920",
         "L",
         "302.3",
         "311.2",
         "1401",
         "49.7",
         "118",
         "0",
         "0",
         "0",
         "0",
         "0",
         "0"
        ],
        [
         "4392",
         "4393",
         "L51572",
         "L",
         "302.2",
         "310.1",
         "1458",
         "45.1",
         "15",
         "0",
         "0",
         "0",
         "0",
         "0",
         "0"
        ],
        [
         "3154",
         "3155",
         "L50334",
         "L",
         "300.4",
         "309.7",
         "1534",
         "42.5",
         "127",
         "0",
         "0",
         "0",
         "0",
         "0",
         "0"
        ],
        [
         "7829",
         "7830",
         "L55009",
         "L",
         "299.8",
         "311.2",
         "1664",
         "28.3",
         "173",
         "0",
         "0",
         "0",
         "0",
         "0",
         "0"
        ],
        [
         "9965",
         "9966",
         "L57145",
         "L",
         "298.3",
         "307.9",
         "1703",
         "28.9",
         "147",
         "0",
         "0",
         "0",
         "0",
         "0",
         "0"
        ],
        [
         "4955",
         "4956",
         "M19815",
         "M",
         "303.8",
         "312.5",
         "1366",
         "45.1",
         "143",
         "0",
         "0",
         "0",
         "0",
         "0",
         "0"
        ],
        [
         "9935",
         "9936",
         "L57115",
         "L",
         "298.4",
         "308.3",
         "1452",
         "48.5",
         "73",
         "0",
         "0",
         "0",
         "0",
         "0",
         "0"
        ],
        [
         "5710",
         "5711",
         "H35124",
         "H",
         "302.2",
         "311.7",
         "1413",
         "46.5",
         "147",
         "0",
         "0",
         "0",
         "0",
         "0",
         "0"
        ],
        [
         "1873",
         "1874",
         "L49053",
         "L",
         "298.4",
         "308.1",
         "1367",
         "57.8",
         "92",
         "0",
         "0",
         "0",
         "0",
         "0",
         "0"
        ],
        [
         "3418",
         "3419",
         "H32832",
         "H",
         "301.6",
         "310.6",
         "1555",
         "40.4",
         "139",
         "0",
         "0",
         "0",
         "0",
         "0",
         "0"
        ],
        [
         "7705",
         "7706",
         "L54885",
         "L",
         "300.5",
         "311.5",
         "1316",
         "49.7",
         "55",
         "0",
         "0",
         "0",
         "0",
         "0",
         "0"
        ],
        [
         "1985",
         "1986",
         "L49165",
         "L",
         "298.1",
         "307.7",
         "1537",
         "40.8",
         "169",
         "0",
         "0",
         "0",
         "0",
         "0",
         "0"
        ],
        [
         "3611",
         "3612",
         "L50791",
         "L",
         "301.7",
         "310.9",
         "1405",
         "46.4",
         "207",
         "1",
         "1",
         "0",
         "0",
         "0",
         "1"
        ],
        [
         "5194",
         "5195",
         "M20054",
         "M",
         "303.9",
         "313.1",
         "1668",
         "34.4",
         "137",
         "0",
         "0",
         "0",
         "0",
         "0",
         "0"
        ],
        [
         "9823",
         "9824",
         "M24683",
         "M",
         "298.5",
         "309.3",
         "1488",
         "43.7",
         "189",
         "0",
         "0",
         "0",
         "0",
         "0",
         "0"
        ],
        [
         "6390",
         "6391",
         "L53570",
         "L",
         "300.3",
         "309.8",
         "1450",
         "55.0",
         "135",
         "0",
         "0",
         "0",
         "0",
         "0",
         "0"
        ],
        [
         "5752",
         "5753",
         "H35166",
         "H",
         "302.3",
         "311.8",
         "1804",
         "25.0",
         "43",
         "0",
         "0",
         "0",
         "0",
         "0",
         "0"
        ],
        [
         "7153",
         "7154",
         "L54333",
         "L",
         "300.2",
         "310.0",
         "1493",
         "47.3",
         "172",
         "0",
         "0",
         "0",
         "0",
         "0",
         "0"
        ],
        [
         "1813",
         "1814",
         "L48993",
         "L",
         "298.1",
         "307.7",
         "1479",
         "45.0",
         "136",
         "0",
         "0",
         "0",
         "0",
         "0",
         "0"
        ],
        [
         "9709",
         "9710",
         "M24569",
         "M",
         "299.0",
         "310.0",
         "1486",
         "34.6",
         "91",
         "0",
         "0",
         "0",
         "0",
         "0",
         "0"
        ],
        [
         "6099",
         "6100",
         "H35513",
         "H",
         "300.9",
         "310.7",
         "1609",
         "28.7",
         "39",
         "0",
         "0",
         "0",
         "0",
         "0",
         "0"
        ],
        [
         "2545",
         "2546",
         "M17405",
         "M",
         "299.2",
         "309.0",
         "1541",
         "36.3",
         "104",
         "0",
         "0",
         "0",
         "0",
         "0",
         "0"
        ],
        [
         "1971",
         "1972",
         "L49151",
         "L",
         "297.9",
         "307.6",
         "1298",
         "52.7",
         "132",
         "0",
         "0",
         "0",
         "0",
         "0",
         "0"
        ],
        [
         "3543",
         "3544",
         "L50723",
         "L",
         "301.8",
         "310.9",
         "1449",
         "36.5",
         "33",
         "0",
         "0",
         "0",
         "0",
         "0",
         "0"
        ],
        [
         "9911",
         "9912",
         "M24771",
         "M",
         "298.6",
         "309.0",
         "1481",
         "40.8",
         "6",
         "0",
         "0",
         "0",
         "0",
         "0",
         "0"
        ],
        [
         "5448",
         "5449",
         "L52628",
         "L",
         "303.0",
         "312.7",
         "1551",
         "41.8",
         "111",
         "0",
         "0",
         "0",
         "0",
         "0",
         "0"
        ],
        [
         "7281",
         "7282",
         "L54461",
         "L",
         "300.0",
         "310.2",
         "1675",
         "29.7",
         "64",
         "0",
         "0",
         "0",
         "0",
         "0",
         "0"
        ],
        [
         "1399",
         "1400",
         "L48579",
         "L",
         "299.0",
         "310.2",
         "1533",
         "43.5",
         "159",
         "0",
         "0",
         "0",
         "0",
         "0",
         "0"
        ],
        [
         "8368",
         "8369",
         "L55548",
         "L",
         "298.9",
         "309.8",
         "1534",
         "42.1",
         "23",
         "0",
         "0",
         "0",
         "0",
         "0",
         "0"
        ],
        [
         "5215",
         "5216",
         "M20075",
         "M",
         "303.7",
         "312.7",
         "1532",
         "42.7",
         "194",
         "0",
         "0",
         "0",
         "0",
         "0",
         "0"
        ],
        [
         "2549",
         "2550",
         "L49729",
         "L",
         "299.4",
         "309.2",
         "1489",
         "42.3",
         "114",
         "0",
         "0",
         "0",
         "0",
         "0",
         "0"
        ],
        [
         "3070",
         "3071",
         "L50250",
         "L",
         "300.0",
         "309.1",
         "1631",
         "28.3",
         "110",
         "0",
         "0",
         "0",
         "0",
         "0",
         "0"
        ],
        [
         "9763",
         "9764",
         "M24623",
         "M",
         "298.6",
         "309.6",
         "1635",
         "29.7",
         "9",
         "0",
         "0",
         "0",
         "0",
         "0",
         "0"
        ],
        [
         "7500",
         "7501",
         "L54680",
         "L",
         "300.2",
         "311.8",
         "1410",
         "51.4",
         "189",
         "0",
         "0",
         "0",
         "0",
         "0",
         "0"
        ],
        [
         "5147",
         "5148",
         "L52327",
         "L",
         "304.4",
         "313.6",
         "1569",
         "38.4",
         "11",
         "0",
         "0",
         "0",
         "0",
         "0",
         "0"
        ],
        [
         "7081",
         "7082",
         "L54261",
         "L",
         "300.7",
         "310.4",
         "1366",
         "52.6",
         "205",
         "0",
         "0",
         "0",
         "0",
         "0",
         "0"
        ],
        [
         "9139",
         "9140",
         "L56319",
         "L",
         "297.5",
         "308.5",
         "1536",
         "36.9",
         "108",
         "0",
         "0",
         "0",
         "0",
         "0",
         "0"
        ]
       ],
       "shape": {
        "columns": 14,
        "rows": 1000
       }
      },
      "text/html": [
       "<div>\n",
       "<style scoped>\n",
       "    .dataframe tbody tr th:only-of-type {\n",
       "        vertical-align: middle;\n",
       "    }\n",
       "\n",
       "    .dataframe tbody tr th {\n",
       "        vertical-align: top;\n",
       "    }\n",
       "\n",
       "    .dataframe thead th {\n",
       "        text-align: right;\n",
       "    }\n",
       "</style>\n",
       "<table border=\"1\" class=\"dataframe\">\n",
       "  <thead>\n",
       "    <tr style=\"text-align: right;\">\n",
       "      <th></th>\n",
       "      <th>UDI</th>\n",
       "      <th>Product ID</th>\n",
       "      <th>Type</th>\n",
       "      <th>Air temperature [K]</th>\n",
       "      <th>Process temperature [K]</th>\n",
       "      <th>Rotational speed [rpm]</th>\n",
       "      <th>Torque [Nm]</th>\n",
       "      <th>Tool wear [min]</th>\n",
       "      <th>Machine failure</th>\n",
       "      <th>TWF</th>\n",
       "      <th>HDF</th>\n",
       "      <th>PWF</th>\n",
       "      <th>OSF</th>\n",
       "      <th>RNF</th>\n",
       "    </tr>\n",
       "  </thead>\n",
       "  <tbody>\n",
       "    <tr>\n",
       "      <th>9290</th>\n",
       "      <td>9291</td>\n",
       "      <td>L56470</td>\n",
       "      <td>L</td>\n",
       "      <td>298.2</td>\n",
       "      <td>309.0</td>\n",
       "      <td>1418</td>\n",
       "      <td>44.2</td>\n",
       "      <td>87</td>\n",
       "      <td>0</td>\n",
       "      <td>0</td>\n",
       "      <td>0</td>\n",
       "      <td>0</td>\n",
       "      <td>0</td>\n",
       "      <td>0</td>\n",
       "    </tr>\n",
       "    <tr>\n",
       "      <th>1801</th>\n",
       "      <td>1802</td>\n",
       "      <td>M16661</td>\n",
       "      <td>M</td>\n",
       "      <td>298.0</td>\n",
       "      <td>307.5</td>\n",
       "      <td>1427</td>\n",
       "      <td>43.6</td>\n",
       "      <td>101</td>\n",
       "      <td>0</td>\n",
       "      <td>0</td>\n",
       "      <td>0</td>\n",
       "      <td>0</td>\n",
       "      <td>0</td>\n",
       "      <td>0</td>\n",
       "    </tr>\n",
       "    <tr>\n",
       "      <th>5977</th>\n",
       "      <td>5978</td>\n",
       "      <td>L53157</td>\n",
       "      <td>L</td>\n",
       "      <td>300.6</td>\n",
       "      <td>310.7</td>\n",
       "      <td>1750</td>\n",
       "      <td>30.6</td>\n",
       "      <td>171</td>\n",
       "      <td>0</td>\n",
       "      <td>0</td>\n",
       "      <td>0</td>\n",
       "      <td>0</td>\n",
       "      <td>0</td>\n",
       "      <td>0</td>\n",
       "    </tr>\n",
       "    <tr>\n",
       "      <th>6900</th>\n",
       "      <td>6901</td>\n",
       "      <td>L54080</td>\n",
       "      <td>L</td>\n",
       "      <td>301.0</td>\n",
       "      <td>311.7</td>\n",
       "      <td>1670</td>\n",
       "      <td>31.3</td>\n",
       "      <td>150</td>\n",
       "      <td>0</td>\n",
       "      <td>0</td>\n",
       "      <td>0</td>\n",
       "      <td>0</td>\n",
       "      <td>0</td>\n",
       "      <td>0</td>\n",
       "    </tr>\n",
       "    <tr>\n",
       "      <th>5898</th>\n",
       "      <td>5899</td>\n",
       "      <td>L53078</td>\n",
       "      <td>L</td>\n",
       "      <td>301.0</td>\n",
       "      <td>310.7</td>\n",
       "      <td>1300</td>\n",
       "      <td>57.2</td>\n",
       "      <td>174</td>\n",
       "      <td>0</td>\n",
       "      <td>0</td>\n",
       "      <td>0</td>\n",
       "      <td>0</td>\n",
       "      <td>0</td>\n",
       "      <td>0</td>\n",
       "    </tr>\n",
       "    <tr>\n",
       "      <th>...</th>\n",
       "      <td>...</td>\n",
       "      <td>...</td>\n",
       "      <td>...</td>\n",
       "      <td>...</td>\n",
       "      <td>...</td>\n",
       "      <td>...</td>\n",
       "      <td>...</td>\n",
       "      <td>...</td>\n",
       "      <td>...</td>\n",
       "      <td>...</td>\n",
       "      <td>...</td>\n",
       "      <td>...</td>\n",
       "      <td>...</td>\n",
       "      <td>...</td>\n",
       "    </tr>\n",
       "    <tr>\n",
       "      <th>6404</th>\n",
       "      <td>6405</td>\n",
       "      <td>M21264</td>\n",
       "      <td>M</td>\n",
       "      <td>300.2</td>\n",
       "      <td>309.7</td>\n",
       "      <td>1183</td>\n",
       "      <td>61.4</td>\n",
       "      <td>170</td>\n",
       "      <td>0</td>\n",
       "      <td>0</td>\n",
       "      <td>0</td>\n",
       "      <td>0</td>\n",
       "      <td>0</td>\n",
       "      <td>0</td>\n",
       "    </tr>\n",
       "    <tr>\n",
       "      <th>1142</th>\n",
       "      <td>1143</td>\n",
       "      <td>L48322</td>\n",
       "      <td>L</td>\n",
       "      <td>296.9</td>\n",
       "      <td>307.9</td>\n",
       "      <td>1423</td>\n",
       "      <td>43.9</td>\n",
       "      <td>149</td>\n",
       "      <td>0</td>\n",
       "      <td>0</td>\n",
       "      <td>0</td>\n",
       "      <td>0</td>\n",
       "      <td>0</td>\n",
       "      <td>0</td>\n",
       "    </tr>\n",
       "    <tr>\n",
       "      <th>171</th>\n",
       "      <td>172</td>\n",
       "      <td>L47351</td>\n",
       "      <td>L</td>\n",
       "      <td>298.2</td>\n",
       "      <td>308.1</td>\n",
       "      <td>1462</td>\n",
       "      <td>50.8</td>\n",
       "      <td>27</td>\n",
       "      <td>0</td>\n",
       "      <td>0</td>\n",
       "      <td>0</td>\n",
       "      <td>0</td>\n",
       "      <td>0</td>\n",
       "      <td>0</td>\n",
       "    </tr>\n",
       "    <tr>\n",
       "      <th>6324</th>\n",
       "      <td>6325</td>\n",
       "      <td>M21184</td>\n",
       "      <td>M</td>\n",
       "      <td>300.7</td>\n",
       "      <td>310.1</td>\n",
       "      <td>1367</td>\n",
       "      <td>52.6</td>\n",
       "      <td>167</td>\n",
       "      <td>0</td>\n",
       "      <td>0</td>\n",
       "      <td>0</td>\n",
       "      <td>0</td>\n",
       "      <td>0</td>\n",
       "      <td>0</td>\n",
       "    </tr>\n",
       "    <tr>\n",
       "      <th>8385</th>\n",
       "      <td>8386</td>\n",
       "      <td>H37799</td>\n",
       "      <td>H</td>\n",
       "      <td>298.8</td>\n",
       "      <td>309.8</td>\n",
       "      <td>1563</td>\n",
       "      <td>38.8</td>\n",
       "      <td>65</td>\n",
       "      <td>0</td>\n",
       "      <td>0</td>\n",
       "      <td>0</td>\n",
       "      <td>0</td>\n",
       "      <td>0</td>\n",
       "      <td>0</td>\n",
       "    </tr>\n",
       "  </tbody>\n",
       "</table>\n",
       "<p>1000 rows × 14 columns</p>\n",
       "</div>"
      ],
      "text/plain": [
       "       UDI Product ID Type  Air temperature [K]  Process temperature [K]  \\\n",
       "9290  9291     L56470    L                298.2                    309.0   \n",
       "1801  1802     M16661    M                298.0                    307.5   \n",
       "5977  5978     L53157    L                300.6                    310.7   \n",
       "6900  6901     L54080    L                301.0                    311.7   \n",
       "5898  5899     L53078    L                301.0                    310.7   \n",
       "...    ...        ...  ...                  ...                      ...   \n",
       "6404  6405     M21264    M                300.2                    309.7   \n",
       "1142  1143     L48322    L                296.9                    307.9   \n",
       "171    172     L47351    L                298.2                    308.1   \n",
       "6324  6325     M21184    M                300.7                    310.1   \n",
       "8385  8386     H37799    H                298.8                    309.8   \n",
       "\n",
       "      Rotational speed [rpm]  Torque [Nm]  Tool wear [min]  Machine failure  \\\n",
       "9290                    1418         44.2               87                0   \n",
       "1801                    1427         43.6              101                0   \n",
       "5977                    1750         30.6              171                0   \n",
       "6900                    1670         31.3              150                0   \n",
       "5898                    1300         57.2              174                0   \n",
       "...                      ...          ...              ...              ...   \n",
       "6404                    1183         61.4              170                0   \n",
       "1142                    1423         43.9              149                0   \n",
       "171                     1462         50.8               27                0   \n",
       "6324                    1367         52.6              167                0   \n",
       "8385                    1563         38.8               65                0   \n",
       "\n",
       "      TWF  HDF  PWF  OSF  RNF  \n",
       "9290    0    0    0    0    0  \n",
       "1801    0    0    0    0    0  \n",
       "5977    0    0    0    0    0  \n",
       "6900    0    0    0    0    0  \n",
       "5898    0    0    0    0    0  \n",
       "...   ...  ...  ...  ...  ...  \n",
       "6404    0    0    0    0    0  \n",
       "1142    0    0    0    0    0  \n",
       "171     0    0    0    0    0  \n",
       "6324    0    0    0    0    0  \n",
       "8385    0    0    0    0    0  \n",
       "\n",
       "[1000 rows x 14 columns]"
      ]
     },
     "execution_count": 35,
     "metadata": {},
     "output_type": "execute_result"
    }
   ],
   "source": [
    "df1"
   ]
  },
  {
   "cell_type": "code",
   "execution_count": 36,
   "id": "9805b449",
   "metadata": {},
   "outputs": [
    {
     "data": {
      "text/plain": [
       "Index(['UDI', 'Product ID', 'Type', 'Air temperature [K]',\n",
       "       'Process temperature [K]', 'Rotational speed [rpm]', 'Torque [Nm]',\n",
       "       'Tool wear [min]', 'Machine failure', 'TWF', 'HDF', 'PWF', 'OSF',\n",
       "       'RNF'],\n",
       "      dtype='object')"
      ]
     },
     "execution_count": 36,
     "metadata": {},
     "output_type": "execute_result"
    }
   ],
   "source": [
    "df1.columns"
   ]
  },
  {
   "cell_type": "code",
   "execution_count": 37,
   "id": "b052eb18",
   "metadata": {},
   "outputs": [
    {
     "data": {
      "application/vnd.microsoft.datawrangler.viewer.v0+json": {
       "columns": [
        {
         "name": "index",
         "rawType": "int64",
         "type": "integer"
        },
        {
         "name": "Air temperature [K]",
         "rawType": "float64",
         "type": "float"
        },
        {
         "name": "Process temperature [K]",
         "rawType": "float64",
         "type": "float"
        },
        {
         "name": "Rotational speed [rpm]",
         "rawType": "int64",
         "type": "integer"
        },
        {
         "name": "Torque [Nm]",
         "rawType": "float64",
         "type": "float"
        },
        {
         "name": "Tool wear [min]",
         "rawType": "int64",
         "type": "integer"
        },
        {
         "name": "Machine failure",
         "rawType": "int64",
         "type": "integer"
        }
       ],
       "ref": "0f5c82ba-db4c-4b80-8712-75b748a4ec12",
       "rows": [
        [
         "9290",
         "298.2",
         "309.0",
         "1418",
         "44.2",
         "87",
         "0"
        ],
        [
         "1801",
         "298.0",
         "307.5",
         "1427",
         "43.6",
         "101",
         "0"
        ],
        [
         "5977",
         "300.6",
         "310.7",
         "1750",
         "30.6",
         "171",
         "0"
        ],
        [
         "6900",
         "301.0",
         "311.7",
         "1670",
         "31.3",
         "150",
         "0"
        ],
        [
         "5898",
         "301.0",
         "310.7",
         "1300",
         "57.2",
         "174",
         "0"
        ]
       ],
       "shape": {
        "columns": 6,
        "rows": 5
       }
      },
      "text/html": [
       "<div>\n",
       "<style scoped>\n",
       "    .dataframe tbody tr th:only-of-type {\n",
       "        vertical-align: middle;\n",
       "    }\n",
       "\n",
       "    .dataframe tbody tr th {\n",
       "        vertical-align: top;\n",
       "    }\n",
       "\n",
       "    .dataframe thead th {\n",
       "        text-align: right;\n",
       "    }\n",
       "</style>\n",
       "<table border=\"1\" class=\"dataframe\">\n",
       "  <thead>\n",
       "    <tr style=\"text-align: right;\">\n",
       "      <th></th>\n",
       "      <th>Air temperature [K]</th>\n",
       "      <th>Process temperature [K]</th>\n",
       "      <th>Rotational speed [rpm]</th>\n",
       "      <th>Torque [Nm]</th>\n",
       "      <th>Tool wear [min]</th>\n",
       "      <th>Machine failure</th>\n",
       "    </tr>\n",
       "  </thead>\n",
       "  <tbody>\n",
       "    <tr>\n",
       "      <th>9290</th>\n",
       "      <td>298.2</td>\n",
       "      <td>309.0</td>\n",
       "      <td>1418</td>\n",
       "      <td>44.2</td>\n",
       "      <td>87</td>\n",
       "      <td>0</td>\n",
       "    </tr>\n",
       "    <tr>\n",
       "      <th>1801</th>\n",
       "      <td>298.0</td>\n",
       "      <td>307.5</td>\n",
       "      <td>1427</td>\n",
       "      <td>43.6</td>\n",
       "      <td>101</td>\n",
       "      <td>0</td>\n",
       "    </tr>\n",
       "    <tr>\n",
       "      <th>5977</th>\n",
       "      <td>300.6</td>\n",
       "      <td>310.7</td>\n",
       "      <td>1750</td>\n",
       "      <td>30.6</td>\n",
       "      <td>171</td>\n",
       "      <td>0</td>\n",
       "    </tr>\n",
       "    <tr>\n",
       "      <th>6900</th>\n",
       "      <td>301.0</td>\n",
       "      <td>311.7</td>\n",
       "      <td>1670</td>\n",
       "      <td>31.3</td>\n",
       "      <td>150</td>\n",
       "      <td>0</td>\n",
       "    </tr>\n",
       "    <tr>\n",
       "      <th>5898</th>\n",
       "      <td>301.0</td>\n",
       "      <td>310.7</td>\n",
       "      <td>1300</td>\n",
       "      <td>57.2</td>\n",
       "      <td>174</td>\n",
       "      <td>0</td>\n",
       "    </tr>\n",
       "  </tbody>\n",
       "</table>\n",
       "</div>"
      ],
      "text/plain": [
       "      Air temperature [K]  Process temperature [K]  Rotational speed [rpm]  \\\n",
       "9290                298.2                    309.0                    1418   \n",
       "1801                298.0                    307.5                    1427   \n",
       "5977                300.6                    310.7                    1750   \n",
       "6900                301.0                    311.7                    1670   \n",
       "5898                301.0                    310.7                    1300   \n",
       "\n",
       "      Torque [Nm]  Tool wear [min]  Machine failure  \n",
       "9290         44.2               87                0  \n",
       "1801         43.6              101                0  \n",
       "5977         30.6              171                0  \n",
       "6900         31.3              150                0  \n",
       "5898         57.2              174                0  "
      ]
     },
     "execution_count": 37,
     "metadata": {},
     "output_type": "execute_result"
    }
   ],
   "source": [
    "df1 = df1.drop([\"UDI\", 'TWF', 'HDF', 'PWF', 'OSF', 'RNF'], axis=1).select_dtypes(include='number')\n",
    "df1.head()"
   ]
  },
  {
   "cell_type": "code",
   "execution_count": 38,
   "id": "aab78291",
   "metadata": {},
   "outputs": [
    {
     "name": "stdout",
     "output_type": "stream",
     "text": [
      "<class 'pandas.core.frame.DataFrame'>\n",
      "RangeIndex: 10000 entries, 0 to 9999\n",
      "Data columns (total 14 columns):\n",
      " #   Column                   Non-Null Count  Dtype  \n",
      "---  ------                   --------------  -----  \n",
      " 0   UDI                      10000 non-null  int64  \n",
      " 1   Product ID               10000 non-null  object \n",
      " 2   Type                     10000 non-null  object \n",
      " 3   Air temperature [K]      10000 non-null  float64\n",
      " 4   Process temperature [K]  10000 non-null  float64\n",
      " 5   Rotational speed [rpm]   10000 non-null  int64  \n",
      " 6   Torque [Nm]              10000 non-null  float64\n",
      " 7   Tool wear [min]          10000 non-null  int64  \n",
      " 8   Machine failure          10000 non-null  int64  \n",
      " 9   TWF                      10000 non-null  int64  \n",
      " 10  HDF                      10000 non-null  int64  \n",
      " 11  PWF                      10000 non-null  int64  \n",
      " 12  OSF                      10000 non-null  int64  \n",
      " 13  RNF                      10000 non-null  int64  \n",
      "dtypes: float64(3), int64(9), object(2)\n",
      "memory usage: 1.1+ MB\n"
     ]
    }
   ],
   "source": [
    "df.info()"
   ]
  },
  {
   "cell_type": "code",
   "execution_count": 123,
   "id": "dc1fe649",
   "metadata": {},
   "outputs": [],
   "source": [
    "# sbn.pairplot(df1, hue=\"Machine failure\", corner=True)\n",
    "# plt.show()"
   ]
  },
  {
   "cell_type": "code",
   "execution_count": null,
   "id": "a7c29798",
   "metadata": {},
   "outputs": [],
   "source": [
    "tracking_server_arn = \"http://localhost:5000\"\n",
    "experiment_name = f\"{project_prefix}-sm-pipelines-experiment\"\n",
    "run_name = f\"run-{strftime('%d-%H-%S', gmtime())}\"\n",
    "project_prefix,tracking_server_arn, experiment_name, run_name"
   ]
  },
  {
   "cell_type": "code",
   "execution_count": 42,
   "id": "cfe658f7",
   "metadata": {},
   "outputs": [
    {
     "data": {
      "text/plain": [
       "['UDI',\n",
       " 'Product ID',\n",
       " 'Type',\n",
       " 'Air temperature [K]',\n",
       " 'Process temperature [K]',\n",
       " 'Rotational speed [rpm]',\n",
       " 'Torque [Nm]',\n",
       " 'Tool wear [min]',\n",
       " 'Machine failure',\n",
       " 'TWF',\n",
       " 'HDF',\n",
       " 'PWF',\n",
       " 'OSF',\n",
       " 'RNF']"
      ]
     },
     "execution_count": 42,
     "metadata": {},
     "output_type": "execute_result"
    }
   ],
   "source": [
    "df.columns.to_list()"
   ]
  },
  {
   "cell_type": "code",
   "execution_count": null,
   "id": "9b0dd89e",
   "metadata": {},
   "outputs": [],
   "source": [
    "# @remote(keep_alive_period_in_seconds=3600, job_name_prefix=f\"{project_prefix}-sm-btd-preprocess\")\n",
    "def preprocess(df, df_source: str, experiment_name: str):\n",
    "    mlflow.set_tracking_uri(tracking_server_arn)\n",
    "    mlflow.set_experiment(experiment_name=experiment_name)\n",
    "\n",
    "    with mlflow.start_run(run_name=f\"Preprocessing\") as run:\n",
    "        columns = ['Type', 'Air temperature [K]', 'Process temperature [K]', 'Rotational speed [rpm]', 'Torque [Nm]', 'Tool wear [min]', 'Machine failure']\n",
    "        cat_columns = ['Type']\n",
    "        num_columns = ['Air temperature [K]', 'Process temperature [K]', 'Rotational speed [rpm]', 'Torque [Nm]', 'Tool wear [min]']\n",
    "        target_column = 'Machine failure'  \n",
    "        df = df[columns]\n",
    "        \n",
    "        mlflow.log_input(\n",
    "            mlflow.data.from_pandas(\n",
    "                df,\n",
    "                df_source,\n",
    "                targets=target_column\n",
    "            ),\n",
    "            context=\"DataPreprocessing\"\n",
    "        )\n",
    "        training_ratio = 0.8\n",
    "        validation_ratio = 0.1\n",
    "        test_ratio = 0.1\n",
    "\n",
    "        X = df.drop(target_column, axis=1)\n",
    "        y = df[target_column]\n",
    "\n",
    "        print(f\"Splitting data training ({training_ratio}), validation ({validation_ratio}), test ({test_ratio}) sets\")\n",
    "        X_train, X_test, y_train, y_test = train_test_split(X, y, test_size=test_ratio, random_state=0, stratify=y)\n",
    "        X_train, X_val, y_train, y_val = train_test_split(X_train, y_train, test_size=validation_ratio/(validation_ratio + training_ratio), random_state=2, stratify=y_train)\n",
    "\n",
    "        # Apply transformation\n",
    "        transformer = ColumnTransformer(transformers=[('numeric', StandardScaler(), num_columns),\n",
    "                                                    ('categorical', OneHotEncoder(), cat_columns)],\n",
    "                                        remainder=\"passthrough\")\n",
    "        featurizer_model = transformer.fit(X_train)\n",
    "        X_train = featurizer_model.transform(X_train)\n",
    "        X_val = featurizer_model.transform(X_val)\n",
    "\n",
    "        print(f\"Shape of train feature after preprocessing: {X_train.shape}\")\n",
    "        print(f\"Shape of validation features after preprocessing: {X_val.shape}\")\n",
    "        print(f\"Shape of test feature after preprocessing : {X_test.shape}\")\n",
    "        \n",
    "        y_train = y_train.values.reshape(-1)\n",
    "        y_val = y_val.values.reshape(-1)\n",
    "\n",
    "        print(f'Shape of train labels after preprocessing: {y_train.shape}')\n",
    "        print(f'Shape of validation labels after preprocessing: {y_val.shape}')\n",
    "        print(f'Shape of test labels after preprocessing: {y_test.shape}')\n",
    "\n",
    "        model_file_path = \"./opt/ml/model/sklearn_model.joblib\"\n",
    "        os.makedirs(os.path.dirname(model_file_path), exist_ok=True)\n",
    "        joblib.dump(featurizer_model, model_file_path)\n",
    "\n",
    "    return X_train, y_train, X_val, y_val, X_test, y_test, featurizer_model\n"
   ]
  },
  {
   "cell_type": "code",
   "execution_count": 44,
   "id": "67a1f14e",
   "metadata": {},
   "outputs": [
    {
     "name": "stdout",
     "output_type": "stream",
     "text": [
      "Splitting data training (0.8), validation (0.1), test (0.1) sets\n",
      "Shape of train feature after preprocessing: (7999, 8)\n",
      "Shape of validation features after preprocessing: (1001, 8)\n",
      "Shape of test feature after preprocessing : (1000, 6)\n",
      "Shape of train labels after preprocessing: (7999,)\n",
      "Shape of validation labels after preprocessing: (1001,)\n",
      "Shape of test labels after preprocessing: (1000,)\n"
     ]
    }
   ],
   "source": [
    "X_train, y_train, X_val, y_val, X_test, y_test, featurizer_model = preprocess(df=df,\n",
    "                                                                              df_source=dataset_url,\n",
    "                                                                              experiment_name=experiment_name)"
   ]
  },
  {
   "cell_type": "code",
   "execution_count": 46,
   "id": "6886f07f",
   "metadata": {},
   "outputs": [
    {
     "data": {
      "application/vnd.microsoft.datawrangler.viewer.v0+json": {
       "columns": [
        {
         "name": "index",
         "rawType": "int64",
         "type": "integer"
        },
        {
         "name": "0",
         "rawType": "float64",
         "type": "float"
        },
        {
         "name": "1",
         "rawType": "float64",
         "type": "float"
        },
        {
         "name": "2",
         "rawType": "float64",
         "type": "float"
        },
        {
         "name": "3",
         "rawType": "float64",
         "type": "float"
        },
        {
         "name": "4",
         "rawType": "float64",
         "type": "float"
        },
        {
         "name": "5",
         "rawType": "float64",
         "type": "float"
        },
        {
         "name": "6",
         "rawType": "float64",
         "type": "float"
        },
        {
         "name": "7",
         "rawType": "float64",
         "type": "float"
        }
       ],
       "ref": "abf2326b-d523-4f91-b8c4-ebfe1d68ab3b",
       "rows": [
        [
         "0",
         "0.647087603842529",
         "0.46728655558794435",
         "-0.19147173412486693",
         "0.7201945506756808",
         "-0.53697616864094",
         "0.0",
         "1.0",
         "0.0"
        ],
        [
         "1",
         "-0.14980303739090362",
         "-0.6073994680668676",
         "-0.3533425303123491",
         "-0.0023900969456573723",
         "0.23071379946134063",
         "0.0",
         "1.0",
         "0.0"
        ],
        [
         "2",
         "2.0914518910780937",
         "2.2808192205054705",
         "1.1258216417456774",
         "-1.1866260472139611",
         "-0.47430759981626397",
         "0.0",
         "1.0",
         "0.0"
        ],
        [
         "3",
         "-1.8930013150890126",
         "-1.8835891211570068",
         "-0.13007246660547717",
         "-0.35364652287269666",
         "-1.1009932880630235",
         "0.0",
         "1.0",
         "0.0"
        ],
        [
         "4",
         "1.8922292307697497",
         "1.9449798381133345",
         "0.3108859092155949",
         "-0.48411319535988234",
         "-0.6153118796717849",
         "0.0",
         "0.0",
         "1.0"
        ],
        [
         "5",
         "-1.345138999241024",
         "-1.1447424798942927",
         "-1.5087651099954114",
         "2.0650048670820595",
         "0.16804523063666468",
         "0.0",
         "1.0",
         "0.0"
        ],
        [
         "6",
         "-0.09999737231380347",
         "-0.6073994680668676",
         "-1.0231527214329648",
         "1.6736048496205016",
         "-1.5866746964542624",
         "0.0",
         "0.0",
         "1.0"
        ],
        [
         "7",
         "-0.6478596881617918",
         "-0.0028885797610382824",
         "-0.10774546023478997",
         "-0.19307215673462141",
         "1.405749464924015",
         "0.0",
         "0.0",
         "1.0"
        ],
        [
         "8",
         "0.4976706086112568",
         "0.06427929671740416",
         "0.10994285187941016",
         "-0.7450465403342545",
         "-1.6963446918974454",
         "0.0",
         "1.0",
         "0.0"
        ],
        [
         "9",
         "-0.896888013547236",
         "-1.3462461093295819",
         "0.29414065443757953",
         "-0.6346516636143278",
         "-1.1949961413000376",
         "0.0",
         "0.0",
         "1.0"
        ]
       ],
       "shape": {
        "columns": 8,
        "rows": 10
       }
      },
      "text/html": [
       "<div>\n",
       "<style scoped>\n",
       "    .dataframe tbody tr th:only-of-type {\n",
       "        vertical-align: middle;\n",
       "    }\n",
       "\n",
       "    .dataframe tbody tr th {\n",
       "        vertical-align: top;\n",
       "    }\n",
       "\n",
       "    .dataframe thead th {\n",
       "        text-align: right;\n",
       "    }\n",
       "</style>\n",
       "<table border=\"1\" class=\"dataframe\">\n",
       "  <thead>\n",
       "    <tr style=\"text-align: right;\">\n",
       "      <th></th>\n",
       "      <th>0</th>\n",
       "      <th>1</th>\n",
       "      <th>2</th>\n",
       "      <th>3</th>\n",
       "      <th>4</th>\n",
       "      <th>5</th>\n",
       "      <th>6</th>\n",
       "      <th>7</th>\n",
       "    </tr>\n",
       "  </thead>\n",
       "  <tbody>\n",
       "    <tr>\n",
       "      <th>0</th>\n",
       "      <td>0.647088</td>\n",
       "      <td>0.467287</td>\n",
       "      <td>-0.191472</td>\n",
       "      <td>0.720195</td>\n",
       "      <td>-0.536976</td>\n",
       "      <td>0.0</td>\n",
       "      <td>1.0</td>\n",
       "      <td>0.0</td>\n",
       "    </tr>\n",
       "    <tr>\n",
       "      <th>1</th>\n",
       "      <td>-0.149803</td>\n",
       "      <td>-0.607399</td>\n",
       "      <td>-0.353343</td>\n",
       "      <td>-0.002390</td>\n",
       "      <td>0.230714</td>\n",
       "      <td>0.0</td>\n",
       "      <td>1.0</td>\n",
       "      <td>0.0</td>\n",
       "    </tr>\n",
       "    <tr>\n",
       "      <th>2</th>\n",
       "      <td>2.091452</td>\n",
       "      <td>2.280819</td>\n",
       "      <td>1.125822</td>\n",
       "      <td>-1.186626</td>\n",
       "      <td>-0.474308</td>\n",
       "      <td>0.0</td>\n",
       "      <td>1.0</td>\n",
       "      <td>0.0</td>\n",
       "    </tr>\n",
       "    <tr>\n",
       "      <th>3</th>\n",
       "      <td>-1.893001</td>\n",
       "      <td>-1.883589</td>\n",
       "      <td>-0.130072</td>\n",
       "      <td>-0.353647</td>\n",
       "      <td>-1.100993</td>\n",
       "      <td>0.0</td>\n",
       "      <td>1.0</td>\n",
       "      <td>0.0</td>\n",
       "    </tr>\n",
       "    <tr>\n",
       "      <th>4</th>\n",
       "      <td>1.892229</td>\n",
       "      <td>1.944980</td>\n",
       "      <td>0.310886</td>\n",
       "      <td>-0.484113</td>\n",
       "      <td>-0.615312</td>\n",
       "      <td>0.0</td>\n",
       "      <td>0.0</td>\n",
       "      <td>1.0</td>\n",
       "    </tr>\n",
       "    <tr>\n",
       "      <th>5</th>\n",
       "      <td>-1.345139</td>\n",
       "      <td>-1.144742</td>\n",
       "      <td>-1.508765</td>\n",
       "      <td>2.065005</td>\n",
       "      <td>0.168045</td>\n",
       "      <td>0.0</td>\n",
       "      <td>1.0</td>\n",
       "      <td>0.0</td>\n",
       "    </tr>\n",
       "    <tr>\n",
       "      <th>6</th>\n",
       "      <td>-0.099997</td>\n",
       "      <td>-0.607399</td>\n",
       "      <td>-1.023153</td>\n",
       "      <td>1.673605</td>\n",
       "      <td>-1.586675</td>\n",
       "      <td>0.0</td>\n",
       "      <td>0.0</td>\n",
       "      <td>1.0</td>\n",
       "    </tr>\n",
       "    <tr>\n",
       "      <th>7</th>\n",
       "      <td>-0.647860</td>\n",
       "      <td>-0.002889</td>\n",
       "      <td>-0.107745</td>\n",
       "      <td>-0.193072</td>\n",
       "      <td>1.405749</td>\n",
       "      <td>0.0</td>\n",
       "      <td>0.0</td>\n",
       "      <td>1.0</td>\n",
       "    </tr>\n",
       "    <tr>\n",
       "      <th>8</th>\n",
       "      <td>0.497671</td>\n",
       "      <td>0.064279</td>\n",
       "      <td>0.109943</td>\n",
       "      <td>-0.745047</td>\n",
       "      <td>-1.696345</td>\n",
       "      <td>0.0</td>\n",
       "      <td>1.0</td>\n",
       "      <td>0.0</td>\n",
       "    </tr>\n",
       "    <tr>\n",
       "      <th>9</th>\n",
       "      <td>-0.896888</td>\n",
       "      <td>-1.346246</td>\n",
       "      <td>0.294141</td>\n",
       "      <td>-0.634652</td>\n",
       "      <td>-1.194996</td>\n",
       "      <td>0.0</td>\n",
       "      <td>0.0</td>\n",
       "      <td>1.0</td>\n",
       "    </tr>\n",
       "  </tbody>\n",
       "</table>\n",
       "</div>"
      ],
      "text/plain": [
       "          0         1         2         3         4    5    6    7\n",
       "0  0.647088  0.467287 -0.191472  0.720195 -0.536976  0.0  1.0  0.0\n",
       "1 -0.149803 -0.607399 -0.353343 -0.002390  0.230714  0.0  1.0  0.0\n",
       "2  2.091452  2.280819  1.125822 -1.186626 -0.474308  0.0  1.0  0.0\n",
       "3 -1.893001 -1.883589 -0.130072 -0.353647 -1.100993  0.0  1.0  0.0\n",
       "4  1.892229  1.944980  0.310886 -0.484113 -0.615312  0.0  0.0  1.0\n",
       "5 -1.345139 -1.144742 -1.508765  2.065005  0.168045  0.0  1.0  0.0\n",
       "6 -0.099997 -0.607399 -1.023153  1.673605 -1.586675  0.0  0.0  1.0\n",
       "7 -0.647860 -0.002889 -0.107745 -0.193072  1.405749  0.0  0.0  1.0\n",
       "8  0.497671  0.064279  0.109943 -0.745047 -1.696345  0.0  1.0  0.0\n",
       "9 -0.896888 -1.346246  0.294141 -0.634652 -1.194996  0.0  0.0  1.0"
      ]
     },
     "execution_count": 46,
     "metadata": {},
     "output_type": "execute_result"
    }
   ],
   "source": [
    "pd.DataFrame(X_train).head(10)"
   ]
  },
  {
   "cell_type": "code",
   "execution_count": null,
   "id": "db7d4bd2",
   "metadata": {},
   "outputs": [],
   "source": [
    "# @remote(keep_alive_period_in_seconds=3600, job_name_prefix=f\"{project_prefix}-sm-btd-train\")\n",
    "def train(X_train,\n",
    "          y_train,\n",
    "          X_val,\n",
    "          y_val,\n",
    "          eta=0.1,\n",
    "          max_depth=2,\n",
    "          gamma=0.0,\n",
    "          min_child_weight=1,\n",
    "          verbosity=0,\n",
    "          objective='binary:logistic',\n",
    "          eval_metric='auc',\n",
    "          num_boost_round=5):\n",
    "    print('Train features shape: {}'.format(X_train.shape))\n",
    "    print('Train labels shape: {}'.format(y_train.shape))\n",
    "    print('Validation features shape: {}'.format(X_val.shape))\n",
    "    print('Validation labels shape: {}'.format(y_val.shape))   \n",
    "\n",
    "    mlflow.set_tracking_uri(tracking_server_arn)\n",
    "    mlflow.set_experiment(experiment_name)\n",
    "\n",
    "    with mlflow.start_run(run_name=\"Training\") as run:\n",
    "        mlflow.autolog()\n",
    "        dtrain = xgboost.DMatrix(X_train, label=y_train)\n",
    "        dval = xgboost.DMatrix(X_val, label=y_val)\n",
    "        watchlist = [(dtrain, \"train\"), (dval, \"validation\")]\n",
    "\n",
    "        print(\"\")\n",
    "        print(f\"==Starting training with max_depth {max_depth}==\")\n",
    "\n",
    "        param_dict = {\n",
    "            \"max_depth\": max_depth,\n",
    "            \"eta\": eta,\n",
    "            \"gamma\": gamma,\n",
    "            \"min_child_weight\": min_child_weight,\n",
    "            \"verbosity\": verbosity,\n",
    "            \"objective\": objective,\n",
    "            \"eval_metric\": eval_metric\n",
    "        }\n",
    "\n",
    "        xgb = xgboost.train(\n",
    "            params=param_dict,\n",
    "            dtrain=dtrain,\n",
    "            evals=watchlist,\n",
    "            num_boost_round=num_boost_round\n",
    "        )\n",
    "        predictions = xgb.predict(dval)\n",
    "        print(\"Metrics for validation set\")\n",
    "        print(\"\")\n",
    "        print(pd.crosstab(index=y_val, columns=np.round(predictions),\n",
    "                        rownames=[\"Actuals\"], colnames=[\"Predictions\"], margins=True))\n",
    "        rounded_predict = np.round(predictions)\n",
    "        val_accuracy = accuracy_score(y_val, rounded_predict)\n",
    "        val_precision = precision_score(y_val, rounded_predict)\n",
    "        val_recall = recall_score(y_val, rounded_predict)\n",
    "\n",
    "        print(\"Accuracy Model A: %.2f%%\" % (val_accuracy * 100.0))            \n",
    "        print(\"Precision Model A: %.2f\" % (val_precision))\n",
    "        print(\"Recall Model A: %.2f\" % (val_recall))\n",
    "\n",
    "        mlflow.log_metric(\"Accuracy Model A\", val_accuracy * 100.0)\n",
    "        mlflow.log_metric(\"Precision Model A\", val_precision)\n",
    "        mlflow.log_metric(\"Recall Model A\", val_recall)\n",
    "\n",
    "        from sklearn.metrics import roc_auc_score\n",
    "\n",
    "        val_auc = roc_auc_score(y_val, predictions)\n",
    "        print(\"Validation AUC A: %.2f\" % (val_auc))\n",
    "        mlflow.log_metric(\"Validation AUC A\", val_auc)\n",
    "\n",
    "        model_file_path = \"./opt/ml/model/xgboost_model.bin\"\n",
    "        os.makedirs(os.path.dirname(model_file_path), exist_ok=True)\n",
    "        xgb.save_model(model_file_path)\n",
    "\n",
    "    return xgb\n"
   ]
  },
  {
   "cell_type": "code",
   "execution_count": 48,
   "id": "22242343",
   "metadata": {},
   "outputs": [
    {
     "name": "stdout",
     "output_type": "stream",
     "text": [
      "Train features shape: (7999, 8)\n",
      "Train labels shape: (7999,)\n",
      "Validation features shape: (1001, 8)\n",
      "Validation labels shape: (1001,)\n",
      "\n",
      "==Starting training with max_depth 8==\n",
      "[0]\ttrain-auc:0.96284\tvalidation-auc:0.96190\n",
      "[1]\ttrain-auc:0.97833\tvalidation-auc:0.99224\n",
      "[2]\ttrain-auc:0.98293\tvalidation-auc:0.99267\n",
      "[3]\ttrain-auc:0.98492\tvalidation-auc:0.99261\n",
      "[4]\ttrain-auc:0.98616\tvalidation-auc:0.99317\n",
      "Metrics for validation set\n",
      "\n",
      "Predictions  0.0  1.0   All\n",
      "Actuals                    \n",
      "0            964    3   967\n",
      "1              6   28    34\n",
      "All          970   31  1001\n",
      "Accuracy Model A: 99.10%\n",
      "Precision Model A: 0.90\n",
      "Recall Model A: 0.82\n",
      "Validation AUC A: 0.99\n"
     ]
    }
   ],
   "source": [
    "eta=0.3\n",
    "max_depth=8\n",
    "\n",
    "booster = train(X_train, y_train, X_val, y_val,\n",
    "              eta=eta, \n",
    "              max_depth=max_depth)"
   ]
  },
  {
   "cell_type": "code",
   "execution_count": null,
   "id": "c9216021",
   "metadata": {},
   "outputs": [],
   "source": [
    "# @remote(keep_alive_period_in_seconds=600, job_name_prefix=f\"{project_prefix}-sm-btd-test\")\n",
    "def test(featurizer_model, booster, X_test, y_test):\n",
    "\n",
    "    mlflow.start_run(run_name=f\"Testing\")\n",
    "    mlflow.autolog()\n",
    "    X_test = featurizer_model.transform(X_test)\n",
    "    y_test = y_test.values.reshape(-1)\n",
    "\n",
    "    dtest = xgboost.DMatrix(X_test, label=y_test)\n",
    "    test_predictions = booster.predict(dtest)\n",
    "    \n",
    "    print (\"===Metrics for Test Set===\")\n",
    "    print('')\n",
    "    print (pd.crosstab(index=y_test, columns=np.round(test_predictions), \n",
    "                                     rownames=['Actuals'], \n",
    "                                     colnames=['Predictions'], \n",
    "                                     margins=True)\n",
    "          )\n",
    "    print('')\n",
    "\n",
    "    rounded_predict = np.round(test_predictions)\n",
    "\n",
    "    accuracy = accuracy_score(y_test, rounded_predict)\n",
    "    precision = precision_score(y_test, rounded_predict)\n",
    "    recall = recall_score(y_test, rounded_predict)\n",
    "    \n",
    "    print('')\n",
    "    print(\"Accuracy Model A: %.2f%%\" % (accuracy * 100.0))\n",
    "    print(\"Precision Model A: %.2f\" % (precision))\n",
    "    print(\"Recall Model A: %.2f\" % (recall))\n",
    "    \n",
    "    mlflow.log_metric(\"Accuracy Model A\", accuracy * 100.0)\n",
    "    mlflow.log_metric(\"Precision Model A\", precision)\n",
    "    mlflow.log_metric(\"Recall Model A\", recall)\n",
    "\n",
    "    from sklearn.metrics import roc_auc_score\n",
    "\n",
    "    auc = roc_auc_score(y_test, test_predictions)\n",
    "    \n",
    "    print(\"AUC A: %.2f\" % (auc))\n",
    "    mlflow.log_metric(\"AUC A\",auc)\n",
    "    \n",
    "    mlflow.end_run()"
   ]
  },
  {
   "cell_type": "code",
   "execution_count": 52,
   "id": "307e8113",
   "metadata": {},
   "outputs": [
    {
     "name": "stdout",
     "output_type": "stream",
     "text": [
      "===Metrics for Test Set===\n",
      "\n",
      "Predictions  0.0  1.0   All\n",
      "Actuals                    \n",
      "0            961    5   966\n",
      "1             10   24    34\n",
      "All          971   29  1000\n",
      "\n",
      "\n",
      "Accuracy Model A: 98.50%\n",
      "Precision Model A: 0.83\n",
      "Recall Model A: 0.71\n",
      "AUC A: 0.94\n"
     ]
    }
   ],
   "source": [
    "test(featurizer_model, booster, X_test, y_test)"
   ]
  },
  {
   "cell_type": "code",
   "execution_count": null,
   "id": "2ad9616a",
   "metadata": {},
   "outputs": [],
   "source": [
    "job_name_prefix=f\"{project_prefix}-sm-btd-preprocess\"\n",
    "job_name_prefix\n",
    "search_training = sm_client.search(\n",
    "    Resource=\"TrainingJob\",\n",
    "    SearchExpression={\n",
    "        \"Filters\": [\n",
    "            {\n",
    "                \"Name\": \"TrainingJobName\",\n",
    "                \"Operator\": \"Contains\",\n",
    "                'Value': job_name_prefix\n",
    "            }\n",
    "        ]\n",
    "    },\n",
    "    SortBy='CreationTime',\n",
    "    SortOrder='Descending',\n",
    "    MaxResults=1\n",
    ")\n",
    "# search_training"
   ]
  },
  {
   "cell_type": "code",
   "execution_count": null,
   "id": "a6f90896",
   "metadata": {},
   "outputs": [
    {
     "name": "stderr",
     "output_type": "stream",
     "text": [
      "INFO:botocore.credentials:Found credentials in environment variables.\n"
     ]
    },
    {
     "data": {
      "text/plain": [
       "['sklearn-model/model.tar.gz']"
      ]
     },
     "execution_count": 32,
     "metadata": {},
     "output_type": "execute_result"
    }
   ],
   "source": [
    "S3Downloader.download(search_training[\"Results\"][0][\"TrainingJob\"][\"ModelArtifacts\"][\"S3ModelArtifacts\"], \"sklearn_model/\")\n",
    "subprocess.call([\"tar\", \"-xvzf\", \"sklearn_model/model.tar.gz\", \"-C\", \"sklearn_model/\"])\n",
    "# subprocess.call([\"rm\", \"sklearn_model/model.tar.gz\"])"
   ]
  },
  {
   "cell_type": "code",
   "execution_count": null,
   "id": "ce51e03f",
   "metadata": {},
   "outputs": [],
   "source": [
    "featurizer = joblib.load('sklearn_model/sklearn_model.joblib')\n",
    "# booster = xgboost.Booster()\n",
    "# xgbooster = booster.load_model('xgboost_model/xgboost_model.bin')\n",
    "feature_columns_names = ['Type', 'Air temperature [K]', 'Process temperature [K]', 'Rotational speed [rpm]', 'Torque [Nm]', 'Tool wear [min]']"
   ]
  },
  {
   "cell_type": "code",
   "execution_count": null,
   "id": "85c5e200",
   "metadata": {},
   "outputs": [
    {
     "name": "stderr",
     "output_type": "stream",
     "text": [
      "INFO:sagemaker.image_uris:Defaulting to only available Python version: py3\n",
      "INFO:sagemaker.image_uris:Defaulting to only supported image scope: cpu.\n",
      "INFO:botocore.credentials:Found credentials in environment variables.\n"
     ]
    },
    {
     "name": "stdout",
     "output_type": "stream",
     "text": [
      "Inside \n",
      "Inference Specification : \n",
      "Received Payload: L,298.4,308.2,1582,70.7,216\n",
      "In Deserialize Stream: <_io.BytesIO object at 0x00000154CBFD3F60>\n",
      "In Deserialize Created dataframe:    0      1      2     3     4    5\n",
      "0  L  298.4  308.2  1582  70.7  216\n",
      "In Deserialize Created dataframe with column names:   Type  Air temperature [K]  Process temperature [K]  Rotational speed [rpm]  \\\n",
      "0    L                298.4                    308.2                    1582   \n",
      "\n",
      "   Torque [Nm]  Tool wear [min]  \n",
      "0         70.7              216  \n",
      "sagemaker.config INFO - Fetched defaults config from location: c:\\pm_projects\\Sagemaker.CICD.Pipeline\\test\n"
     ]
    },
    {
     "name": "stderr",
     "output_type": "stream",
     "text": [
      "ModelBuilder: INFO:     ModelBuilder will collect telemetry to help us better understand our user's needs, diagnose issues, and deliver additional features. To opt out of telemetry, please disable via TelemetryOptOut in intelligent defaults. See https://sagemaker.readthedocs.io/en/stable/overview.html#configuring-and-using-defaults-with-the-sagemaker-python-sdk for more info.\n"
     ]
    },
    {
     "data": {
      "text/html": [
       "<pre style=\"white-space:pre;overflow-x:auto;line-height:normal;font-family:Menlo,'DejaVu Sans Mono',consolas,'Courier New',monospace\"><span style=\"color: #7fbfbf; text-decoration-color: #7fbfbf\">[8/7/2025 1:32:31 PM] </span><span style=\"color: #0069ff; text-decoration-color: #0069ff; font-weight: bold\">INFO    </span> Either inference spec or model is provided. ModelBuilder is not <a href=\"file://c:\\.venvs\\mlflow_venv\\lib\\site-packages\\sagemaker\\serve\\builder\\model_builder.py\" target=\"_blank\"><span style=\"color: #7f7f7f; text-decoration-color: #7f7f7f\">model_builder.py</span></a><span style=\"color: #7f7f7f; text-decoration-color: #7f7f7f\">:</span><a href=\"file://c:\\.venvs\\mlflow_venv\\lib\\site-packages\\sagemaker\\serve\\builder\\model_builder.py#845\" target=\"_blank\"><span style=\"color: #7f7f7f; text-decoration-color: #7f7f7f\">845</span></a>\n",
       "<span style=\"color: #7fbfbf; text-decoration-color: #7fbfbf\">                      </span>         handling MLflow model input                                     <span style=\"color: #7f7f7f; text-decoration-color: #7f7f7f\">                    </span>\n",
       "</pre>\n"
      ],
      "text/plain": [
       "\u001b[2;36m[8/7/2025 1:32:31 PM]\u001b[0m\u001b[2;36m \u001b[0m\u001b[1;38;2;0;105;255mINFO    \u001b[0m Either inference spec or model is provided. ModelBuilder is not \u001b]8;id=926015;file://c:\\.venvs\\mlflow_venv\\lib\\site-packages\\sagemaker\\serve\\builder\\model_builder.py\u001b\\\u001b[2mmodel_builder.py\u001b[0m\u001b]8;;\u001b\\\u001b[2m:\u001b[0m\u001b]8;id=261238;file://c:\\.venvs\\mlflow_venv\\lib\\site-packages\\sagemaker\\serve\\builder\\model_builder.py#845\u001b\\\u001b[2m845\u001b[0m\u001b]8;;\u001b\\\n",
       "\u001b[2;36m                      \u001b[0m         handling MLflow model input                                     \u001b[2m                    \u001b[0m\n"
      ]
     },
     "metadata": {},
     "output_type": "display_data"
    },
    {
     "name": "stderr",
     "output_type": "stream",
     "text": [
      "INFO:sagemaker_core.main.utils:Either inference spec or model is provided. ModelBuilder is not handling MLflow model input\n"
     ]
    },
    {
     "data": {
      "text/html": [
       "<pre style=\"white-space:pre;overflow-x:auto;line-height:normal;font-family:Menlo,'DejaVu Sans Mono',consolas,'Courier New',monospace\"><span style=\"color: #7fbfbf; text-decoration-color: #7fbfbf\">                      </span><span style=\"color: #0069ff; text-decoration-color: #0069ff; font-weight: bold\">INFO    </span> Skipping auto detection as the image uri is provided            <a href=\"file://c:\\.venvs\\mlflow_venv\\lib\\site-packages\\sagemaker\\serve\\builder\\model_builder.py\" target=\"_blank\"><span style=\"color: #7f7f7f; text-decoration-color: #7f7f7f\">model_builder.py</span></a><span style=\"color: #7f7f7f; text-decoration-color: #7f7f7f\">:</span><a href=\"file://c:\\.venvs\\mlflow_venv\\lib\\site-packages\\sagemaker\\serve\\builder\\model_builder.py#391\" target=\"_blank\"><span style=\"color: #7f7f7f; text-decoration-color: #7f7f7f\">391</span></a>\n",
       "<span style=\"color: #7fbfbf; text-decoration-color: #7fbfbf\">                      </span>         <span style=\"color: #008080; text-decoration-color: #008080; font-weight: bold\">683313688378.</span>dkr.ecr.us-east-<span style=\"color: #008080; text-decoration-color: #008080; font-weight: bold\">1.</span>amazonaws.com/sagemaker-scikit-l <span style=\"color: #7f7f7f; text-decoration-color: #7f7f7f\">                    </span>\n",
       "<span style=\"color: #7fbfbf; text-decoration-color: #7fbfbf\">                      </span>         earn:<span style=\"color: #008080; text-decoration-color: #008080; font-weight: bold\">1.2</span>-<span style=\"color: #008080; text-decoration-color: #008080; font-weight: bold\">1</span>-cpu-py3                                              <span style=\"color: #7f7f7f; text-decoration-color: #7f7f7f\">                    </span>\n",
       "</pre>\n"
      ],
      "text/plain": [
       "\u001b[2;36m                     \u001b[0m\u001b[2;36m \u001b[0m\u001b[1;38;2;0;105;255mINFO    \u001b[0m Skipping auto detection as the image uri is provided            \u001b]8;id=754415;file://c:\\.venvs\\mlflow_venv\\lib\\site-packages\\sagemaker\\serve\\builder\\model_builder.py\u001b\\\u001b[2mmodel_builder.py\u001b[0m\u001b]8;;\u001b\\\u001b[2m:\u001b[0m\u001b]8;id=39041;file://c:\\.venvs\\mlflow_venv\\lib\\site-packages\\sagemaker\\serve\\builder\\model_builder.py#391\u001b\\\u001b[2m391\u001b[0m\u001b]8;;\u001b\\\n",
       "\u001b[2;36m                      \u001b[0m         \u001b[1;36m683313688378.\u001b[0mdkr.ecr.us-east-\u001b[1;36m1.\u001b[0mamazonaws.com/sagemaker-scikit-l \u001b[2m                    \u001b[0m\n",
       "\u001b[2;36m                      \u001b[0m         earn:\u001b[1;36m1.2\u001b[0m-\u001b[1;36m1\u001b[0m-cpu-py3                                              \u001b[2m                    \u001b[0m\n"
      ]
     },
     "metadata": {},
     "output_type": "display_data"
    },
    {
     "name": "stderr",
     "output_type": "stream",
     "text": [
      "INFO:sagemaker_core.main.utils:Skipping auto detection as the image uri is provided 683313688378.dkr.ecr.us-east-1.amazonaws.com/sagemaker-scikit-learn:1.2-1-cpu-py3\n",
      "ModelBuilder: DEBUG:     Packaging provided requirements.txt from requirements_inference.txt\n",
      "ModelBuilder: DEBUG:     Uploading the model resources to bucket=sagemaker07272025, key_prefix=amzn/sagemaker-scikit-learn-2025-08-07-08-02-31-758.\n",
      "Uploading model artifacts: 100%|█████████████████████████| 14695/14695 [00:01<00:00, 7535.29bytes/s]\n",
      "ModelBuilder: DEBUG:     Model resources uploaded to: s3://sagemaker07272025/amzn/sagemaker-scikit-learn-2025-08-07-08-02-31-758/serve.tar.gz\n",
      "ModelBuilder: DEBUG:     ModelBuilder metrics emitted.\n"
     ]
    }
   ],
   "source": [
    "class SklearnRequestTranslator(CustomPayloadTranslator):\n",
    "    print(\"Inside \")\n",
    "    def serialize_payload_to_bytes(self, payload: object) -> bytes:\n",
    "        print(\"Received Payload:\", payload)\n",
    "        return payload.encode(\"utf-8\")\n",
    "    \n",
    "    def deserialize_payload_from_stream(self, stream) -> pd.DataFrame:\n",
    "        print(\"In Deserialize Stream:\", stream)\n",
    "        df = pd.read_csv(io.BytesIO(stream.read()), header=None)\n",
    "        print(\"In Deserialize Created dataframe:\", df)\n",
    "        df.columns = feature_columns_names\n",
    "        print(\"In Deserialize Created dataframe with column names:\", df)\n",
    "        return df\n",
    "    \n",
    "class SklearnModelSpec(InferenceSpec):\n",
    "    print(\"Inference Specification : \")\n",
    "    def invoke(self, input_object: object, model: object):\n",
    "        print(\"Inference Specification: for input object:\", input_object)\n",
    "        features = model.transform(input_object)\n",
    "        print(\"Inference Specification: created features:\", features)\n",
    "        return features\n",
    "    def load(self, model_dir):\n",
    "        print(\"Inference Specification: loading model from directory:\", model_dir)\n",
    "        model_path = model_dir + '/sklearn_model.joblib'\n",
    "        print(\"Inference Specification: model_path: \", model_path)\n",
    "        model = joblib.load(model_path)\n",
    "        print(\"Inference Specification: loaded model: \", model)\n",
    "        return model\n",
    "    \n",
    "schema_builder = SchemaBuilder(\n",
    "    sample_input=\"L,298.4,308.2,1582,70.7,216\",\n",
    "    sample_output=np.array([0.647088,0.467287,-0.191472,0.720195,-0.536976,0.0,1.0,0.0]),\n",
    "    input_translator=SklearnRequestTranslator(),\n",
    ")\n",
    "\n",
    "model_file_path = \"sklearn_model/sklearn_model.joblib\"\n",
    "os.makedirs(os.path.dirname(model_file_path), exist_ok=True)\n",
    "bucket_prefix = f\"s3://{bucket_name}/{project_prefix}\"\n",
    "\n",
    "model_builder = ModelBuilder(\n",
    "    model_path=\"sklearn_model/\",\n",
    "    name='sklearn-featurizer',\n",
    "    dependencies={\"requirements\": \"requirements_inference.txt\"},\n",
    "    image_uri=get_image_uri(framework=\"sklearn\", region=region_name, version=\"1.2-1\"),\n",
    "    schema_builder=schema_builder,\n",
    "    model_server=ModelServer.TORCHSERVE,\n",
    "    inference_spec=SklearnModelSpec(),\n",
    "    role_arn=role,\n",
    "    s3_model_data_url=bucket_prefix\n",
    ")\n",
    "\n",
    "built_sklearn_model = model_builder.build()"
   ]
  },
  {
   "cell_type": "code",
   "execution_count": null,
   "id": "92d0d22b",
   "metadata": {},
   "outputs": [
    {
     "name": "stdout",
     "output_type": "stream",
     "text": [
      "Inside RequestTranslater for XGBoost\n",
      "Inside RequestTranslater for XGBoost: payload:  [ 0.647088  0.467287 -0.191472  0.720195 -0.536976  0.        1.\n",
      "  0.      ]\n",
      "Inside RequestTranslater for XGBoost, buffer <_io.BytesIO object at 0x00000154D8A43560>\n",
      "Inside RequestTranslater for XGBoost: np array: b\"\\x93NUMPY\\x01\\x00v\\x00{'descr': '<f8', 'fortran_order': False, 'shape': (8,), }                                                            \\n\\x1fJ\\xb4\\xe4\\xf1\\xb4\\xe4?\\x14$\\xb6\\xbb\\x07\\xe8\\xdd?]\\xc3\\x0c\\x8d'\\x82\\xc8\\xbf]\\xc4wb\\xd6\\x0b\\xe7?\\xa7\\x94\\xd7J\\xe8.\\xe1\\xbf\\x00\\x00\\x00\\x00\\x00\\x00\\x00\\x00\\x00\\x00\\x00\\x00\\x00\\x00\\xf0?\\x00\\x00\\x00\\x00\\x00\\x00\\x00\\x00\"\n",
      "Inside RequestTranslater for XGBoost: inside deserialize stream: <_io.BytesIO object at 0x00000154D8A43560>\n",
      "Inside RequestTranslater for XGBoost: np array: [[ 0.647088  0.467287 -0.191472  0.720195 -0.536976  0.        1.\n",
      "   0.      ]]\n",
      "Inside RequestTranslater for XGBoost: dmatrix: <xgboost.core.DMatrix object at 0x00000154D8AF02B0>\n",
      "XGBoostModelSpec :\n"
     ]
    },
    {
     "name": "stderr",
     "output_type": "stream",
     "text": [
      "INFO:sagemaker.image_uris:Ignoring unnecessary instance type: None.\n",
      "INFO:botocore.credentials:Found credentials in environment variables.\n",
      "ModelBuilder: INFO:     ModelBuilder will collect telemetry to help us better understand our user's needs, diagnose issues, and deliver additional features. To opt out of telemetry, please disable via TelemetryOptOut in intelligent defaults. See https://sagemaker.readthedocs.io/en/stable/overview.html#configuring-and-using-defaults-with-the-sagemaker-python-sdk for more info.\n"
     ]
    },
    {
     "data": {
      "text/html": [
       "<pre style=\"white-space:pre;overflow-x:auto;line-height:normal;font-family:Menlo,'DejaVu Sans Mono',consolas,'Courier New',monospace\"><span style=\"color: #7fbfbf; text-decoration-color: #7fbfbf\">[8/7/2025 1:34:33 PM] </span><span style=\"color: #0069ff; text-decoration-color: #0069ff; font-weight: bold\">INFO    </span> Either inference spec or model is provided. ModelBuilder is not <a href=\"file://c:\\.venvs\\mlflow_venv\\lib\\site-packages\\sagemaker\\serve\\builder\\model_builder.py\" target=\"_blank\"><span style=\"color: #7f7f7f; text-decoration-color: #7f7f7f\">model_builder.py</span></a><span style=\"color: #7f7f7f; text-decoration-color: #7f7f7f\">:</span><a href=\"file://c:\\.venvs\\mlflow_venv\\lib\\site-packages\\sagemaker\\serve\\builder\\model_builder.py#845\" target=\"_blank\"><span style=\"color: #7f7f7f; text-decoration-color: #7f7f7f\">845</span></a>\n",
       "<span style=\"color: #7fbfbf; text-decoration-color: #7fbfbf\">                      </span>         handling MLflow model input                                     <span style=\"color: #7f7f7f; text-decoration-color: #7f7f7f\">                    </span>\n",
       "</pre>\n"
      ],
      "text/plain": [
       "\u001b[2;36m[8/7/2025 1:34:33 PM]\u001b[0m\u001b[2;36m \u001b[0m\u001b[1;38;2;0;105;255mINFO    \u001b[0m Either inference spec or model is provided. ModelBuilder is not \u001b]8;id=104905;file://c:\\.venvs\\mlflow_venv\\lib\\site-packages\\sagemaker\\serve\\builder\\model_builder.py\u001b\\\u001b[2mmodel_builder.py\u001b[0m\u001b]8;;\u001b\\\u001b[2m:\u001b[0m\u001b]8;id=631408;file://c:\\.venvs\\mlflow_venv\\lib\\site-packages\\sagemaker\\serve\\builder\\model_builder.py#845\u001b\\\u001b[2m845\u001b[0m\u001b]8;;\u001b\\\n",
       "\u001b[2;36m                      \u001b[0m         handling MLflow model input                                     \u001b[2m                    \u001b[0m\n"
      ]
     },
     "metadata": {},
     "output_type": "display_data"
    },
    {
     "name": "stderr",
     "output_type": "stream",
     "text": [
      "INFO:sagemaker_core.main.utils:Either inference spec or model is provided. ModelBuilder is not handling MLflow model input\n"
     ]
    },
    {
     "data": {
      "text/html": [
       "<pre style=\"white-space:pre;overflow-x:auto;line-height:normal;font-family:Menlo,'DejaVu Sans Mono',consolas,'Courier New',monospace\"><span style=\"color: #7fbfbf; text-decoration-color: #7fbfbf\">                      </span><span style=\"color: #0069ff; text-decoration-color: #0069ff; font-weight: bold\">INFO    </span> Skipping auto detection as the image uri is provided            <a href=\"file://c:\\.venvs\\mlflow_venv\\lib\\site-packages\\sagemaker\\serve\\builder\\model_builder.py\" target=\"_blank\"><span style=\"color: #7f7f7f; text-decoration-color: #7f7f7f\">model_builder.py</span></a><span style=\"color: #7f7f7f; text-decoration-color: #7f7f7f\">:</span><a href=\"file://c:\\.venvs\\mlflow_venv\\lib\\site-packages\\sagemaker\\serve\\builder\\model_builder.py#391\" target=\"_blank\"><span style=\"color: #7f7f7f; text-decoration-color: #7f7f7f\">391</span></a>\n",
       "<span style=\"color: #7fbfbf; text-decoration-color: #7fbfbf\">                      </span>         <span style=\"color: #008080; text-decoration-color: #008080; font-weight: bold\">683313688378.</span>dkr.ecr.us-east-<span style=\"color: #008080; text-decoration-color: #008080; font-weight: bold\">1.</span>amazonaws.com/sagemaker-xgboost: <span style=\"color: #7f7f7f; text-decoration-color: #7f7f7f\">                    </span>\n",
       "<span style=\"color: #7fbfbf; text-decoration-color: #7fbfbf\">                      </span>         <span style=\"color: #008080; text-decoration-color: #008080; font-weight: bold\">1.7</span>-<span style=\"color: #008080; text-decoration-color: #008080; font-weight: bold\">1</span>                                                           <span style=\"color: #7f7f7f; text-decoration-color: #7f7f7f\">                    </span>\n",
       "</pre>\n"
      ],
      "text/plain": [
       "\u001b[2;36m                     \u001b[0m\u001b[2;36m \u001b[0m\u001b[1;38;2;0;105;255mINFO    \u001b[0m Skipping auto detection as the image uri is provided            \u001b]8;id=863948;file://c:\\.venvs\\mlflow_venv\\lib\\site-packages\\sagemaker\\serve\\builder\\model_builder.py\u001b\\\u001b[2mmodel_builder.py\u001b[0m\u001b]8;;\u001b\\\u001b[2m:\u001b[0m\u001b]8;id=211007;file://c:\\.venvs\\mlflow_venv\\lib\\site-packages\\sagemaker\\serve\\builder\\model_builder.py#391\u001b\\\u001b[2m391\u001b[0m\u001b]8;;\u001b\\\n",
       "\u001b[2;36m                      \u001b[0m         \u001b[1;36m683313688378.\u001b[0mdkr.ecr.us-east-\u001b[1;36m1.\u001b[0mamazonaws.com/sagemaker-xgboost: \u001b[2m                    \u001b[0m\n",
       "\u001b[2;36m                      \u001b[0m         \u001b[1;36m1.7\u001b[0m-\u001b[1;36m1\u001b[0m                                                           \u001b[2m                    \u001b[0m\n"
      ]
     },
     "metadata": {},
     "output_type": "display_data"
    },
    {
     "name": "stderr",
     "output_type": "stream",
     "text": [
      "INFO:sagemaker_core.main.utils:Skipping auto detection as the image uri is provided 683313688378.dkr.ecr.us-east-1.amazonaws.com/sagemaker-xgboost:1.7-1\n",
      "ModelBuilder: DEBUG:     Packaging provided requirements.txt from requirements_inference.txt\n",
      "ModelBuilder: DEBUG:     Uploading the model resources to bucket=sagemaker07272025, key_prefix=amzn/sagemaker-xgboost-2025-08-07-08-04-33-787.\n",
      "Uploading model artifacts: 100%|████████████████████████| 54354/54354 [00:02<00:00, 25409.98bytes/s]\n",
      "ModelBuilder: DEBUG:     Model resources uploaded to: s3://sagemaker07272025/amzn/sagemaker-xgboost-2025-08-07-08-04-33-787/serve.tar.gz\n",
      "ModelBuilder: DEBUG:     ModelBuilder metrics emitted.\n"
     ]
    }
   ],
   "source": [
    "class RequestTranslater(CustomPayloadTranslator):\n",
    "    print(\"Inside RequestTranslater for XGBoost\")\n",
    "    def serialize_payload_to_bytes(self, payload):\n",
    "        print(\"Inside RequestTranslater for XGBoost: payload: \", payload)\n",
    "        buffer = io.BytesIO()\n",
    "        print(\"Inside RequestTranslater for XGBoost, buffer\", buffer)\n",
    "        np.save(buffer, payload)\n",
    "        print(\"Inside RequestTranslater for XGBoost: np array:\", buffer.getvalue())\n",
    "        return buffer.getvalue()\n",
    "    \n",
    "    def deserialize_payload_from_stream(self, stream):\n",
    "        print(\"Inside RequestTranslater for XGBoost: inside deserialize stream:\", stream)\n",
    "        np_array = np.load(io.BytesIO(stream.read())).reshape((1, -1))\n",
    "        print(\"Inside RequestTranslater for XGBoost: np array:\", np_array)\n",
    "        dmatrix = xgboost.DMatrix(np_array)\n",
    "        print(\"Inside RequestTranslater for XGBoost: dmatrix:\", dmatrix)\n",
    "        return dmatrix\n",
    "    \n",
    "schema_builder = SchemaBuilder(\n",
    "    sample_input=np.array([0.647088,0.467287,-0.191472,0.720195,-0.536976,0.0,1.0,0.0]),\n",
    "    sample_output=np.array([0.15388985]),\n",
    "    input_translator=RequestTranslater()\n",
    ")\n",
    "\n",
    "class XGBoostModelSpec(InferenceSpec):\n",
    "    print(\"XGBoostModelSpec :\")\n",
    "    def invoke(self, input_object: object, model: object):\n",
    "        print(\"XGBoostModelSpec inside invoke: input_object:\", input_object, \"model:\", model)\n",
    "        features = model.predict(input_object)\n",
    "        print(\"XGBoostModelSpec inside invoke: features:\", features)\n",
    "        return features\n",
    "\n",
    "    def load(self, model_dir: str):\n",
    "        import xgboost\n",
    "        print(\"XGBoostModelSpec inside load: model_dir:\", model_dir)\n",
    "        model_path = model_dir+'/xgboost_model.bin'\n",
    "        print(\"XGBoost ModelSpec inside load: model_path:\", model_path)\n",
    "        booster = xgboost.Booster()\n",
    "        model = booster.load_model(model_path)\n",
    "        print(\"XGBoostModelSpec : model:\", model)\n",
    "        return model\n",
    "model_file_path = \"xgboost_model/xgboost_model.bin\"\n",
    "os.makedirs(os.path.dirname(model_file_path), exist_ok=True)\n",
    "booster.save_model(model_file_path)\n",
    "\n",
    "bucket_prefix = f\"s3://{bucket_name}/{project_prefix}\"\n",
    "\n",
    "model_builder = ModelBuilder(\n",
    "    model=booster,\n",
    "    model_path=\"xgboost_model/\",\n",
    "    dependencies={\"requirements\": \"requirements_inference.txt\"},\n",
    "    schema_builder=schema_builder,\n",
    "    role_arn=role,\n",
    "    s3_model_data_url=bucket_prefix,\n",
    "    image_uri=get_image_uri(framework=\"xgboost\", region=region_name, version=\"1.7-1\")\n",
    ")\n",
    "\n",
    "built_xgboost_model = model_builder.build()"
   ]
  },
  {
   "cell_type": "code",
   "execution_count": null,
   "id": "f8532631",
   "metadata": {},
   "outputs": [],
   "source": [
    "pipeline_model_name = unique_name_from_base(f\"{project_prefix}-sm-btd-endpoint\")\n",
    "endpoint_name = unique_name_from_base(f\"{project_prefix}-sm-btd-endpoint\")\n",
    "endpoint_name1 = unique_name_from_base(f\"{project_prefix}-sm-btd-endpoint\")\n",
    "\n",
    "pipeline_model = PipelineModel(\n",
    "    name=pipeline_model_name,\n",
    "    role=role,\n",
    "    models=[\n",
    "        built_sklearn_model,\n",
    "        built_xgboost_model\n",
    "    ]\n",
    ")"
   ]
  },
  {
   "cell_type": "code",
   "execution_count": null,
   "id": "edd7c0f1",
   "metadata": {},
   "outputs": [
    {
     "data": {
      "text/plain": [
       "<sagemaker.model.Model at 0x154d6ee5ff0>"
      ]
     },
     "execution_count": 68,
     "metadata": {},
     "output_type": "execute_result"
    }
   ],
   "source": [
    "built_sklearn_model, built_xgboost_model, pipeline_model_name, endpoint_name, endpoint_name1"
   ]
  },
  {
   "cell_type": "code",
   "execution_count": 77,
   "id": "b70ef7aa",
   "metadata": {},
   "outputs": [
    {
     "name": "stderr",
     "output_type": "stream",
     "text": [
      "INFO:botocore.credentials:Found credentials in environment variables.\n",
      "INFO:sagemaker:Creating model with name: amzn-sm-btd-endpoint-1754553885-c7e4\n",
      "INFO:sagemaker:Creating endpoint-config with name amzn-sm-btd-endpoint-1754553893-aa1b\n",
      "INFO:sagemaker:Creating endpoint with name amzn-sm-btd-endpoint-1754553893-aa1b\n"
     ]
    }
   ],
   "source": [
    "pipeline_model.deploy(\n",
    "    initial_instance_count=1,\n",
    "    instance_type='ml.m5.2xlarge',\n",
    "    endpoint_name=endpoint_name,\n",
    "    wait=False\n",
    ")"
   ]
  },
  {
   "cell_type": "code",
   "execution_count": 80,
   "id": "09ea3a2e",
   "metadata": {},
   "outputs": [
    {
     "name": "stderr",
     "output_type": "stream",
     "text": [
      "INFO:sagemaker:Creating model with name: amzn-sm-btd-endpoint-1754553885-c7e4\n",
      "WARNING:sagemaker:Using already existing model: amzn-sm-btd-endpoint-1754553885-c7e4\n",
      "INFO:sagemaker:Creating endpoint-config with name amzn-sm-btd-endpoint-1754553963-ccdb\n",
      "INFO:sagemaker:Creating endpoint with name amzn-sm-btd-endpoint-1754553963-ccdb\n"
     ]
    }
   ],
   "source": [
    "pipeline_model.deploy(\n",
    "    initial_instance_count=1,\n",
    "    instance_type='ml.m5.xlarge',\n",
    "    endpoint_name=endpoint_name1,\n",
    "    wait=False\n",
    ")"
   ]
  },
  {
   "cell_type": "code",
   "execution_count": 81,
   "id": "ae795ebb",
   "metadata": {},
   "outputs": [
    {
     "name": "stdout",
     "output_type": "stream",
     "text": [
      "sagemaker.config INFO - Not applying SDK defaults from location: C:\\ProgramData\\sagemaker\\sagemaker\\config.yaml\n",
      "sagemaker.config INFO - Fetched defaults config from location: c:\\pm_projects\\Sagemaker.CICD.Pipeline\\test\n",
      "Inference payload: L,298.4,308.2,1582,70.7,216\n",
      "Inference result: [0.8878407]\n",
      "Inference payload: M,298.4,308.2,1582,30.2,214\n",
      "Inference result: [0.12801738]\n"
     ]
    }
   ],
   "source": [
    "!python test.py amzn-sm-btd-endpoint-1754553893-aa1b"
   ]
  },
  {
   "cell_type": "markdown",
   "id": "c6624896",
   "metadata": {},
   "source": [
    "# List package group names"
   ]
  },
  {
   "cell_type": "code",
   "execution_count": 20,
   "id": "6c32ec0c",
   "metadata": {},
   "outputs": [],
   "source": [
    "import boto3\n",
    "import os\n",
    "\n",
    "project_prefix = \"amzn\"\n",
    "bucket_name = \"sagemaker07272025\"\n",
    "bucket_prefix = f\"{bucket_name}/{project_prefix}\"\n",
    "SM_DIST_IMAGE=f\"public.ecr.aws/sagemaker/sagemaker-distribution:1.11-gpu\"\n",
    "REGION = boto3.session.Session().region_name\n",
    "REPO_NAME = f\"{project_prefix}-sagemaker-distribution-prod\"\n",
    "ACCOUNT_ID = boto3.client('sts').get_caller_identity()['Account']\n",
    "MY_REPO=f\"{ACCOUNT_ID}.dkr.ecr.{REGION}.amazonaws.com/{REPO_NAME}:latest\""
   ]
  },
  {
   "cell_type": "code",
   "execution_count": 21,
   "id": "7fc20d61",
   "metadata": {},
   "outputs": [
    {
     "data": {
      "text/plain": [
       "('sagemaker07272025', 'sagemaker07272025/amzn')"
      ]
     },
     "execution_count": 21,
     "metadata": {},
     "output_type": "execute_result"
    }
   ],
   "source": [
    "bucket_name, bucket_prefix"
   ]
  },
  {
   "cell_type": "code",
   "execution_count": 22,
   "id": "7caf580a",
   "metadata": {},
   "outputs": [],
   "source": [
    "config_yaml = f\"\"\"\n",
    "SchemaVersion: '1.0'\n",
    "SageMaker:\n",
    "  PythonSDK:\n",
    "    Modules:\n",
    "      RemoteFunction:\n",
    "        # role arn is not required if in SageMaker Notebook instance or SageMaker Studio\n",
    "        # Uncomment the following line and replace with the right execution role if in a local IDE\n",
    "        # RoleArn: <replace the role arn here>\n",
    "        S3RootUri: s3://{bucket_prefix}\n",
    "        ImageUri: {MY_REPO}\n",
    "        InstanceType: ml.m5.xlarge\n",
    "        Dependencies: ./requirements.txt\n",
    "        IncludeLocalWorkDir: true\n",
    "        # PreExecutionCommands:\n",
    "        # - \"sudo chmod -R 777 /opt/ml/model\"\n",
    "        CustomFileFilter:\n",
    "          IgnoreNamePatterns:\n",
    "          - \"data/*\"\n",
    "          - \"models/*\"\n",
    "          - \"*.ipynb\"\n",
    "          - \"__pycache__\"\n",
    "\n",
    "\"\"\""
   ]
  },
  {
   "cell_type": "code",
   "execution_count": 24,
   "id": "d77c77b8",
   "metadata": {},
   "outputs": [
    {
     "name": "stdout",
     "output_type": "stream",
     "text": [
      "\n",
      "SchemaVersion: '1.0'\n",
      "SageMaker:\n",
      "  PythonSDK:\n",
      "    Modules:\n",
      "      RemoteFunction:\n",
      "        # role arn is not required if in SageMaker Notebook instance or SageMaker Studio\n",
      "        # Uncomment the following line and replace with the right execution role if in a local IDE\n",
      "        # RoleArn: <replace the role arn here>\n",
      "        S3RootUri: s3://sagemaker07272025/amzn\n",
      "        ImageUri: 395435558728.dkr.ecr.us-east-1.amazonaws.com/amzn-sagemaker-distribution-prod:latest\n",
      "        InstanceType: ml.m5.xlarge\n",
      "        Dependencies: ./requirements.txt\n",
      "        IncludeLocalWorkDir: true\n",
      "        # PreExecutionCommands:\n",
      "        # - \"sudo chmod -R 777 /opt/ml/model\"\n",
      "        CustomFileFilter:\n",
      "          IgnoreNamePatterns:\n",
      "          - \"data/*\"\n",
      "          - \"models/*\"\n",
      "          - \"*.ipynb\"\n",
      "          - \"__pycache__\"\n",
      "\n",
      "\n"
     ]
    }
   ],
   "source": [
    "print(config_yaml)"
   ]
  },
  {
   "cell_type": "code",
   "execution_count": 27,
   "id": "28d955ab",
   "metadata": {},
   "outputs": [],
   "source": [
    "print(config_yaml, file=open(\"../pipeline-03/config.yaml\", \"w\"))"
   ]
  },
  {
   "cell_type": "code",
   "execution_count": null,
   "id": "7c237384",
   "metadata": {},
   "outputs": [],
   "source": []
  }
 ],
 "metadata": {
  "kernelspec": {
   "display_name": "Python 3",
   "language": "python",
   "name": "python3"
  },
  "language_info": {
   "codemirror_mode": {
    "name": "ipython",
    "version": 3
   },
   "file_extension": ".py",
   "mimetype": "text/x-python",
   "name": "python",
   "nbconvert_exporter": "python",
   "pygments_lexer": "ipython3",
   "version": "3.10.11"
  }
 },
 "nbformat": 4,
 "nbformat_minor": 5
}
